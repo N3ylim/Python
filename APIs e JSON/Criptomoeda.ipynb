{
 "cells": [
  {
   "cell_type": "code",
   "execution_count": null,
   "metadata": {},
   "outputs": [],
   "source": [
    "from binance.client import Client\n",
    "from secrets import api_secret, api_key\n"
   ]
  },
  {
   "cell_type": "code",
   "execution_count": null,
   "metadata": {},
   "outputs": [],
   "source": [
    "client = Client(api_key, api_secret)\n",
    "\n",
    "# pegar informações da nossa conta\n",
    "info = client.get_account()\n",
    "for item in info:\n",
    "    print(item)"
   ]
  },
  {
   "cell_type": "code",
   "execution_count": null,
   "metadata": {},
   "outputs": [],
   "source": [
    "# ver os saldos dos ativos que temos na conta\n",
    "lista_ativos = info[\"balances\"]\n",
    "# print(lista_ativos)\n",
    "\n",
    "# ativos que temos algum saldo\n",
    "for ativo in lista_ativos:\n",
    "    if float(ativo[\"free\"]) > 0:\n",
    "        print(ativo)\n",
    "\n",
    "# criar uma ordem dentro da binance\n",
    "from binance.enums import *\n",
    "order = client.create_order(\n",
    "    symbol='BNBBRL',\n",
    "    side=SIDE_SELL,\n",
    "    type=ORDER_TYPE_MARKET,\n",
    "    quantity=0.01,\n",
    "    )\n",
    "\n",
    "print(order)"
   ]
  },
  {
   "cell_type": "code",
   "execution_count": null,
   "metadata": {},
   "outputs": [],
   "source": [
    "# visualizar as ordens executadas\n",
    "print(client.get_all_orders(symbol='BNBBRL'))\n",
    "print(client.get_my_trades(symbol='BNBBRL'))\n",
    "\n",
    "# te mostrar as referências de cada par de moedas\n",
    "print(client.get_symbol_info('BNBBRL'))\n",
    "\n",
    "# pegar as cotações em tempo real\n",
    "transacoes = client.get_recent_trades(symbol=\"BNBBRL\", limit=1)\n",
    "print(transacoes)"
   ]
  }
 ],
 "metadata": {
  "language_info": {
   "name": "python"
  },
  "orig_nbformat": 4
 },
 "nbformat": 4,
 "nbformat_minor": 2
}
