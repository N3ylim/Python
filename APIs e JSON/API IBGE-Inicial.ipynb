{
 "cells": [
  {
   "cell_type": "markdown",
   "id": "ad2d00dc",
   "metadata": {},
   "source": [
    "### API IBGE\n",
    "\n",
    "https://servicodados.ibge.gov.br/api/docs"
   ]
  },
  {
   "cell_type": "code",
   "execution_count": 3,
   "id": "17ec9d9f",
   "metadata": {},
   "outputs": [
    {
     "name": "stdout",
     "output_type": "stream",
     "text": [
      "[{'localidade': 'BR',\n",
      "  'nome': 'NEYLOR',\n",
      "  'res': [{'frequencia': 23, 'periodo': '[1960,1970['},\n",
      "          {'frequencia': 40, 'periodo': '[1970,1980['},\n",
      "          {'frequencia': 76, 'periodo': '[1980,1990['},\n",
      "          {'frequencia': 32, 'periodo': '[1990,2000['}],\n",
      "  'sexo': None}]\n"
     ]
    }
   ],
   "source": [
    "import requests\n",
    "import pprint\n",
    "\n",
    "nome = input(\"Digite o seu nome\")\n",
    "sexo = input(\"Digite o seu sexo (H homem, M mulher)\")\n",
    "sexo = sexo.title()\n",
    "sexo = sexo[0]\n",
    "\n",
    "\n",
    "\n",
    "link = f\"https://servicodados.ibge.gov.br/api/v2/censos/nomes/{nome}?sexo={sexo}\"\n",
    "requisicao = requests.get(link)\n",
    "\n",
    "pprint.pprint(requisicao.json())"
   ]
  },
  {
   "cell_type": "code",
   "execution_count": 4,
   "id": "fb1219ca",
   "metadata": {},
   "outputs": [
    {
     "name": "stdout",
     "output_type": "stream",
     "text": [
      "Número de espécies da fauna e da flora brasileira avaliadas quanto ao risco de extinção\n",
      "[{'localidade': {'id': '1', 'nivel': {'id': 'N1', 'nome': 'Brasil'}, 'nome': 'Brasil'}, 'serie': {'2014': '16645'}}]\n"
     ]
    }
   ],
   "source": [
    "import requests\n",
    "\n",
    "link = \"https://servicodados.ibge.gov.br/api/v3/agregados/7392/periodos/2014/variaveis/10484?localidades=N1[all]\"\n",
    "\n",
    "requisicao = requests.get(link)\n",
    "informacoes = requisicao.json()\n",
    "\n",
    "# import pprint\n",
    "\n",
    "# pprint.pprint(informacoes[0]['resultados'][0]['series'])\n",
    "\n",
    "item_busca = informacoes[0]['variavel'] # variavel\n",
    "resultados = informacoes[0]['resultados'][0]['series'] # series\n",
    "\n",
    "print(item_busca)\n",
    "print(resultados)"
   ]
  }
 ],
 "metadata": {
  "kernelspec": {
   "display_name": "Python 3 (ipykernel)",
   "language": "python",
   "name": "python3"
  },
  "language_info": {
   "codemirror_mode": {
    "name": "ipython",
    "version": 3
   },
   "file_extension": ".py",
   "mimetype": "text/x-python",
   "name": "python",
   "nbconvert_exporter": "python",
   "pygments_lexer": "ipython3",
   "version": "3.11.4"
  }
 },
 "nbformat": 4,
 "nbformat_minor": 5
}
