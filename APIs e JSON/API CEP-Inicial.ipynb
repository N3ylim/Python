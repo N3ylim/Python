{
 "cells": [
  {
   "cell_type": "markdown",
   "id": "7e57525e",
   "metadata": {},
   "source": [
    "### Via CEP\n",
    "\n",
    "https://viacep.com.br/"
   ]
  },
  {
   "cell_type": "markdown",
   "id": "84f1d631",
   "metadata": {},
   "source": [
    "#### Consulta de informaçõe"
   ]
  },
  {
   "cell_type": "code",
   "execution_count": 3,
   "id": "fe813e51",
   "metadata": {},
   "outputs": [
    {
     "name": "stdout",
     "output_type": "stream",
     "text": [
      "cep invalido\n"
     ]
    }
   ],
   "source": [
    "import requests\n",
    "\n",
    "cep = input(\"Digite o seu cep\")\n",
    "cep = cep.replace(\"-\", \"\").replace(\".\", \"\").replace(\" \", \"\")\n",
    "\n",
    "if len(cep) == 8:\n",
    "    link = f\"https://viacep.com.br/ws/{cep}/json/\"\n",
    "    requisicao = requests.get(link)\n",
    "\n",
    "    print(requisicao.json())\n",
    "\n",
    "    dic_rec = requisicao.json()\n",
    "\n",
    "    rua = dic_rec[\"logradouro\"]\n",
    "    bairro = dic_rec[\"bairro\"]\n",
    "    cidade = dic_rec[\"localidade\"]\n",
    "\n",
    "    print(\"-\" * 50)\n",
    "\n",
    "    print(cidade)\n",
    "    print(bairro)\n",
    "    print(rua)\n",
    "else:\n",
    "    print(\"cep invalido\")"
   ]
  },
  {
   "cell_type": "markdown",
   "id": "0abd6940",
   "metadata": {},
   "source": [
    "#### Busca de CEP a partir de endereço"
   ]
  },
  {
   "cell_type": "code",
   "execution_count": 8,
   "id": "270edfa9",
   "metadata": {},
   "outputs": [
    {
     "name": "stdout",
     "output_type": "stream",
     "text": [
      "[{'bairro': 'Mercês',\n",
      "  'cep': '38060-100',\n",
      "  'complemento': 'até 898/899',\n",
      "  'ddd': '34',\n",
      "  'gia': '',\n",
      "  'ibge': '3170107',\n",
      "  'localidade': 'Uberaba',\n",
      "  'logradouro': 'Rua Antônio Borges de Araújo',\n",
      "  'siafi': '5401',\n",
      "  'uf': 'MG'},\n",
      " {'bairro': 'Mercês',\n",
      "  'cep': '38061-050',\n",
      "  'complemento': 'de 900/901 ao fim',\n",
      "  'ddd': '34',\n",
      "  'gia': '',\n",
      "  'ibge': '3170107',\n",
      "  'localidade': 'Uberaba',\n",
      "  'logradouro': 'Rua Antônio Borges de Araújo',\n",
      "  'siafi': '5401',\n",
      "  'uf': 'MG'}]\n"
     ]
    }
   ],
   "source": [
    "import requests\n",
    "import pprint\n",
    "\n",
    "\n",
    "sigla = input(\"Digite a sigla de seu estado\")\n",
    "sigla = sigla.upper()\n",
    "\n",
    "cidade = input(\"Digite o nome de sua cidade\")\n",
    "cidade = cidade.title()\n",
    "\n",
    "rua = input(\"Digite a sua Rua\")\n",
    "rua = rua.title()\n",
    "\n",
    "link = f\"https://viacep.com.br/ws/{sigla}/{cidade}/{rua}/json/\"\n",
    "requisicao = requests.get(link)\n",
    "localidade = requisicao.json()\n",
    "pprint.pprint(localidade)\n"
   ]
  },
  {
   "cell_type": "code",
   "execution_count": 9,
   "id": "d4447a99",
   "metadata": {},
   "outputs": [
    {
     "data": {
      "text/html": [
       "<div>\n",
       "<style scoped>\n",
       "    .dataframe tbody tr th:only-of-type {\n",
       "        vertical-align: middle;\n",
       "    }\n",
       "\n",
       "    .dataframe tbody tr th {\n",
       "        vertical-align: top;\n",
       "    }\n",
       "\n",
       "    .dataframe thead th {\n",
       "        text-align: right;\n",
       "    }\n",
       "</style>\n",
       "<table border=\"1\" class=\"dataframe\">\n",
       "  <thead>\n",
       "    <tr style=\"text-align: right;\">\n",
       "      <th></th>\n",
       "      <th>cep</th>\n",
       "      <th>logradouro</th>\n",
       "      <th>complemento</th>\n",
       "      <th>bairro</th>\n",
       "      <th>localidade</th>\n",
       "      <th>uf</th>\n",
       "      <th>ibge</th>\n",
       "      <th>gia</th>\n",
       "      <th>ddd</th>\n",
       "      <th>siafi</th>\n",
       "    </tr>\n",
       "  </thead>\n",
       "  <tbody>\n",
       "    <tr>\n",
       "      <th>0</th>\n",
       "      <td>38060-100</td>\n",
       "      <td>Rua Antônio Borges de Araújo</td>\n",
       "      <td>até 898/899</td>\n",
       "      <td>Mercês</td>\n",
       "      <td>Uberaba</td>\n",
       "      <td>MG</td>\n",
       "      <td>3170107</td>\n",
       "      <td></td>\n",
       "      <td>34</td>\n",
       "      <td>5401</td>\n",
       "    </tr>\n",
       "    <tr>\n",
       "      <th>1</th>\n",
       "      <td>38061-050</td>\n",
       "      <td>Rua Antônio Borges de Araújo</td>\n",
       "      <td>de 900/901 ao fim</td>\n",
       "      <td>Mercês</td>\n",
       "      <td>Uberaba</td>\n",
       "      <td>MG</td>\n",
       "      <td>3170107</td>\n",
       "      <td></td>\n",
       "      <td>34</td>\n",
       "      <td>5401</td>\n",
       "    </tr>\n",
       "  </tbody>\n",
       "</table>\n",
       "</div>"
      ],
      "text/plain": [
       "         cep                    logradouro        complemento  bairro  \\\n",
       "0  38060-100  Rua Antônio Borges de Araújo        até 898/899  Mercês   \n",
       "1  38061-050  Rua Antônio Borges de Araújo  de 900/901 ao fim  Mercês   \n",
       "\n",
       "  localidade  uf     ibge gia ddd siafi  \n",
       "0    Uberaba  MG  3170107      34  5401  \n",
       "1    Uberaba  MG  3170107      34  5401  "
      ]
     },
     "metadata": {},
     "output_type": "display_data"
    }
   ],
   "source": [
    "import pandas as pd\n",
    "import time\n",
    "\n",
    "tabela = pd.DataFrame(localidade)\n",
    "\n",
    "display(tabela)"
   ]
  }
 ],
 "metadata": {
  "kernelspec": {
   "display_name": "Python 3 (ipykernel)",
   "language": "python",
   "name": "python3"
  },
  "language_info": {
   "codemirror_mode": {
    "name": "ipython",
    "version": 3
   },
   "file_extension": ".py",
   "mimetype": "text/x-python",
   "name": "python",
   "nbconvert_exporter": "python",
   "pygments_lexer": "ipython3",
   "version": "3.11.4"
  }
 },
 "nbformat": 4,
 "nbformat_minor": 5
}
