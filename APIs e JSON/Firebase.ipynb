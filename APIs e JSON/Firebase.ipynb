{
 "cells": [
  {
   "cell_type": "code",
   "execution_count": 30,
   "metadata": {},
   "outputs": [],
   "source": [
    "# Criar o projeto no Firebase\n",
    "\n",
    "# Link documento REST API Firebase\n",
    "# https://firebase.google.com/docs/reference/rest/database\n",
    "\n",
    "# Criar o Database (atenção às regras de segurança)\n",
    "# Estrutura de árvore\n",
    "\n",
    "# Interação com o Database (REST API)\n",
    "import requests\n",
    "import json\n",
    "\n",
    "link = \"https://projeto-neylor-default-rtdb.firebaseio.com/\""
   ]
  },
  {
   "cell_type": "code",
   "execution_count": 50,
   "metadata": {},
   "outputs": [
    {
     "name": "stdout",
     "output_type": "stream",
     "text": [
      "<Response [200]>\n",
      "{\"name\":\"-NbMwOJFY1LS-LBjWjAn\"}\n"
     ]
    }
   ],
   "source": [
    "# Criar uma venda (POST)\n",
    "dados = {\"Preço\": 200, \"Cliente\": \"Neylor\", \"Produto\": \"Teclado\"}\n",
    "requisicao = requests.post(f\"{link}Vendas/.json\", data=json.dumps(dados))\n",
    "print(requisicao)\n",
    "print(requisicao.text)\n",
    "\n",
    "# Criar um novo produto (POST)\n",
    "dados = {\"Preço\": 200, \"Produto\": \"Teclado\", \"Quantidade\": 300}\n",
    "requisicao = requests.post(f\"{link}Produto/.json\", data=json.dumps(dados))\n",
    "print(requisicao)\n",
    "print(requisicao.text)\n",
    "\n",
    "# Editar a venda (PATCH)\n",
    "dados = {\"Cliente\": \"Renatin\"}\n",
    "requisicao = requests.patch(f\"{link}/Vendas/-NbMrLQqw2eiseQbqbGb/.json\", data=json.dumps(dados))\n",
    "print(requisicao)\n",
    "print(requisicao.text)\n",
    "\n",
    "\n"
   ]
  },
  {
   "cell_type": "code",
   "execution_count": null,
   "metadata": {},
   "outputs": [],
   "source": [
    "# Pegar uma venda específico ou todas as vendas (GET)\n",
    "import pprint\n",
    "requisicao = requests.get(link + \"/.json\")\n",
    "dic_rec = requisicao.json()\n",
    "\n",
    "print(requisicao)\n",
    "pprint.pprint(dic_rec)\n",
    "print(\"- \" * 100)\n",
    "print(\" \" * 100)\n",
    "print(dic_rec[\"Produto\"])\n",
    "print(\" \" * 100)\n",
    "print(\"- \" * 100)\n",
    "\n",
    "\n",
    "requisicao = requests.get(link + \"Vendas/.json\")\n",
    "dic_rec = requisicao.json()\n",
    "\n",
    "print(\" \" * 100)\n",
    "\n",
    "id_neylor = None\n",
    "for id_venda in dic_rec:\n",
    "    cliente = dic_rec[id_venda][\"Cliente\"]\n",
    "    if cliente == \"Neylor\":\n",
    "     id_neylor = id_venda\n",
    "\n",
    "     print(id_venda)\n",
    "\n"
   ]
  },
  {
   "cell_type": "code",
   "execution_count": 51,
   "metadata": {},
   "outputs": [],
   "source": [
    "# Deletar uma venda (DELETE)\n",
    "requisicao = requests.delete(link + \"/Vendas/-NbMwOJFY1LS-LBjWjAn/.json\")"
   ]
  }
 ],
 "metadata": {
  "kernelspec": {
   "display_name": "Python 3",
   "language": "python",
   "name": "python3"
  },
  "language_info": {
   "codemirror_mode": {
    "name": "ipython",
    "version": 3
   },
   "file_extension": ".py",
   "mimetype": "text/x-python",
   "name": "python",
   "nbconvert_exporter": "python",
   "pygments_lexer": "ipython3",
   "version": "3.11.4"
  },
  "orig_nbformat": 4
 },
 "nbformat": 4,
 "nbformat_minor": 2
}
