{
 "cells": [
  {
   "cell_type": "code",
   "execution_count": 1,
   "id": "956ea54f",
   "metadata": {},
   "outputs": [
    {
     "name": "stdout",
     "output_type": "stream",
     "text": [
      "['Mais de 50.000 de alunos formados por Todos os Cursos da Hashtag', 'Nos últimos anos, a Hashtag Treinamentos transformou a vida de milhares de alunos no Brasil e no Mundo com seus cursos!']\n"
     ]
    }
   ],
   "source": [
    "from bs4 import BeautifulSoup\n",
    "import re\n",
    "\n",
    "with open(\"Pagina Hashtag.html\", \"r\", encoding=\"utf-8\") as arquivo:\n",
    "    site = BeautifulSoup(arquivo, \"html.parser\")\n",
    "    \n",
    "\n",
    "textos = site.find_all(string=re.compile(\"alunos\"))\n",
    "print(textos)"
   ]
  },
  {
   "cell_type": "code",
   "execution_count": 6,
   "id": "90dcfd7c",
   "metadata": {},
   "outputs": [
    {
     "name": "stdout",
     "output_type": "stream",
     "text": [
      "<h2 id=\"mais-de-50-000-de-alunos-formados-por-todos-os-cursos-da-hashtag\"><mark class=\"has-inline-color\" style=\"background-color:rgba(0, 0, 0, 0);color:#112e61\">Mais de 50.000 de alunos formados por Todos os Cursos da Hashtag</mark></h2>\n"
     ]
    }
   ],
   "source": [
    "parent = textos[0].parent.parent\n",
    "print(parent)"
   ]
  },
  {
   "cell_type": "code",
   "execution_count": 17,
   "id": "a3564d17",
   "metadata": {},
   "outputs": [
    {
     "name": "stdout",
     "output_type": "stream",
     "text": [
      "[' ', <span class=\"navbar-toggler-icon\"></span>, ' ']\n"
     ]
    }
   ],
   "source": [
    "barra_navegacao = site.find(\"nav\")\n",
    "# print(barra_navegacao.contents)\n",
    "\n",
    "botao = barra_navegacao.contents[1]\n",
    "print(botao.contents)"
   ]
  },
  {
   "cell_type": "code",
   "execution_count": 23,
   "id": "b4b44095",
   "metadata": {},
   "outputs": [
    {
     "name": "stdout",
     "output_type": "stream",
     "text": [
      "[<mark class=\"has-inline-color\" style=\"background-color:rgba(0, 0, 0, 0);color:#112e61\">Mais de 50.000 de alunos formados por Todos os Cursos da Hashtag</mark>]\n",
      "['Mais de 50.000 de alunos formados por Todos os Cursos da Hashtag']\n"
     ]
    }
   ],
   "source": [
    "titulo_alunos = site.find(id=\"mais-de-50-000-de-alunos-formados-por-todos-os-cursos-da-hashtag\")\n",
    "print(titulo_alunos.contents)\n",
    "print(titulo_alunos.contents[0].contents)"
   ]
  },
  {
   "cell_type": "code",
   "execution_count": null,
   "id": "268a5339",
   "metadata": {},
   "outputs": [],
   "source": []
  }
 ],
 "metadata": {
  "kernelspec": {
   "display_name": "Python 3 (ipykernel)",
   "language": "python",
   "name": "python3"
  },
  "language_info": {
   "codemirror_mode": {
    "name": "ipython",
    "version": 3
   },
   "file_extension": ".py",
   "mimetype": "text/x-python",
   "name": "python",
   "nbconvert_exporter": "python",
   "pygments_lexer": "ipython3",
   "version": "3.9.13"
  }
 },
 "nbformat": 4,
 "nbformat_minor": 5
}
