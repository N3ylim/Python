{
 "cells": [
  {
   "cell_type": "code",
   "execution_count": 9,
   "id": "b26c23a2",
   "metadata": {},
   "outputs": [],
   "source": [
    "from bs4 import BeautifulSoup\n",
    "import requests\n",
    "import re\n",
    "\n",
    "# conectar com o site\n",
    "link = \"https://coinmarketcap.com/\"\n",
    "requisicao = requests.get(link)\n",
    "site = BeautifulSoup(requisicao.text, \"html.parser\")"
   ]
  },
  {
   "cell_type": "code",
   "execution_count": null,
   "id": "1c9a7fdb",
   "metadata": {},
   "outputs": [],
   "source": [
    "tbody = site.find(\"tbody\")\n",
    "linhas = tbody.find_all(\"tr\")\n",
    "moedas = {}\n",
    "for linha in linhas:\n",
    "    try:\n",
    "        nome = linha.find(class_=\"ePTNty\").text\n",
    "        codigo = linha.find(class_=\"coin-item-symbol\").text\n",
    "        valores = linha.find_all(string=re.compile(\"\\$\"))\n",
    "        preco = valores[0]\n",
    "        percentuais = linha.find_all(string=re.compile(\"%\"))\n",
    "        \n",
    "        for i, percentual in enumerate(percentuais):\n",
    "            if \"bQjSqS\" in percentual.parent[\"class\"]:\n",
    "                percentuais[i] = \"-\" + str(percentual)\n",
    "\n",
    "        var_1h = percentuais[0]\n",
    "        var_24h = percentuais[1]\n",
    "        var_7d = percentuais[2]\n",
    "        \n",
    "        market_cap = valores[2]\n",
    "        volume = valores[3]\n",
    "        dic = {\"nome\": nome, \"codigo\": codigo, \"preco\": preco, \"market_cap\": market_cap, \"volume\": volume,\n",
    "              \"var_1h\": var_1h, \"var_24h\": var_24h, \"var_7d\": var_7d}\n",
    "        moedas[nome] = dic\n",
    "    except AttributeError:\n",
    "        break\n",
    "print(moedas)"
   ]
  },
  {
   "cell_type": "code",
   "execution_count": null,
   "id": "e7aca515",
   "metadata": {},
   "outputs": [],
   "source": []
  }
 ],
 "metadata": {
  "kernelspec": {
   "display_name": "Python 3 (ipykernel)",
   "language": "python",
   "name": "python3"
  },
  "language_info": {
   "codemirror_mode": {
    "name": "ipython",
    "version": 3
   },
   "file_extension": ".py",
   "mimetype": "text/x-python",
   "name": "python",
   "nbconvert_exporter": "python",
   "pygments_lexer": "ipython3",
   "version": "3.9.13"
  }
 },
 "nbformat": 4,
 "nbformat_minor": 5
}
