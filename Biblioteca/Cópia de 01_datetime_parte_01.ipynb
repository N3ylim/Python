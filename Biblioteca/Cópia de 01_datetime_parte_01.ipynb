{
 "cells": [
  {
   "cell_type": "markdown",
   "metadata": {},
   "source": [
    "# Guia para o módulo `datetime` em Python\n",
    "\n",
    "O módulo `datetime` em Python fornece classes para manipulação de datas e horas. Aqui está um guia simples para algumas das funções mais úteis deste módulo.\n",
    "\n"
   ]
  },
  {
   "cell_type": "markdown",
   "metadata": {},
   "source": [
    "## datetime.datetime.now()\n",
    "\n",
    "A função `now()` retorna a data e a hora atuais.\n"
   ]
  },
  {
   "cell_type": "code",
   "execution_count": 1,
   "metadata": {
    "ExecuteTime": {
     "end_time": "2023-06-29T19:33:25.775838300Z",
     "start_time": "2023-06-29T19:33:25.769071200Z"
    },
    "collapsed": false,
    "jupyter": {
     "outputs_hidden": false
    }
   },
   "outputs": [
    {
     "name": "stdout",
     "output_type": "stream",
     "text": [
      "Agora: 2023-06-29 18:10:24.090145\n"
     ]
    }
   ],
   "source": [
    "from datetime import datetime\n",
    "\n",
    "agora = datetime.now()\n",
    "print(f\"Agora: {agora}\")"
   ]
  },
  {
   "cell_type": "code",
   "execution_count": 2,
   "metadata": {
    "ExecuteTime": {
     "end_time": "2023-06-29T19:33:25.790886Z",
     "start_time": "2023-06-29T19:33:25.778085800Z"
    },
    "collapsed": false,
    "jupyter": {
     "outputs_hidden": false
    }
   },
   "outputs": [
    {
     "name": "stdout",
     "output_type": "stream",
     "text": [
      "Data: 2023-06-29\n",
      "Horário: 18:10:24.090145\n"
     ]
    }
   ],
   "source": [
    "print(f\"Data: {agora.date()}\")\n",
    "print(f\"Horário: {agora.time()}\")"
   ]
  },
  {
   "cell_type": "code",
   "execution_count": 3,
   "metadata": {
    "ExecuteTime": {
     "end_time": "2023-06-29T19:33:25.851047700Z",
     "start_time": "2023-06-29T19:33:25.790886Z"
    },
    "collapsed": false,
    "jupyter": {
     "outputs_hidden": false
    }
   },
   "outputs": [
    {
     "name": "stdout",
     "output_type": "stream",
     "text": [
      "Ano: 2023\n",
      "Mês: 6\n",
      "Dia: 29\n",
      "Hora: 18\n",
      "Minuto: 10\n",
      "Segundo: 24\n"
     ]
    }
   ],
   "source": [
    "print(f\"Ano: {agora.year}\")\n",
    "print(f\"Mês: {agora.month}\")\n",
    "print(f\"Dia: {agora.day}\")\n",
    "print(f\"Hora: {agora.hour}\")\n",
    "print(f\"Minuto: {agora.minute}\")\n",
    "print(f\"Segundo: {agora.second}\")"
   ]
  },
  {
   "cell_type": "markdown",
   "metadata": {},
   "source": [
    "## datetime.date.today()\n",
    "\n",
    "A função `today()` retorna a data atual.\n",
    "\n"
   ]
  },
  {
   "cell_type": "code",
   "execution_count": 4,
   "metadata": {
    "ExecuteTime": {
     "end_time": "2023-06-29T19:33:25.859322800Z",
     "start_time": "2023-06-29T19:33:25.807885200Z"
    },
    "collapsed": false,
    "jupyter": {
     "outputs_hidden": false
    }
   },
   "outputs": [
    {
     "name": "stdout",
     "output_type": "stream",
     "text": [
      "Data atual: 2023-06-29\n"
     ]
    }
   ],
   "source": [
    "from datetime import date\n",
    "\n",
    "hoje = date.today()\n",
    "print(f\"Data atual: {hoje}\")"
   ]
  },
  {
   "cell_type": "code",
   "execution_count": 5,
   "metadata": {
    "ExecuteTime": {
     "end_time": "2023-06-29T19:33:25.859322800Z",
     "start_time": "2023-06-29T19:33:25.821498400Z"
    },
    "collapsed": false,
    "jupyter": {
     "outputs_hidden": false
    }
   },
   "outputs": [
    {
     "name": "stdout",
     "output_type": "stream",
     "text": [
      "Ano: 2023\n",
      "Mês: 6\n",
      "Dia: 29\n"
     ]
    }
   ],
   "source": [
    "print(f\"Ano: {hoje.year}\")\n",
    "print(f\"Mês: {hoje.month}\")\n",
    "print(f\"Dia: {hoje.day}\")"
   ]
  },
  {
   "cell_type": "markdown",
   "metadata": {},
   "source": [
    "## datetime.timedelta()\n",
    "\n",
    "A classe `timedelta` é usada para realizar operações com datas (adição e subtração).\n",
    "\n"
   ]
  },
  {
   "cell_type": "code",
   "execution_count": 6,
   "metadata": {
    "ExecuteTime": {
     "end_time": "2023-06-29T19:33:25.859322800Z",
     "start_time": "2023-06-29T19:33:25.839791600Z"
    },
    "collapsed": false,
    "jupyter": {
     "outputs_hidden": false
    }
   },
   "outputs": [
    {
     "name": "stdout",
     "output_type": "stream",
     "text": [
      "Data atual: 2023-06-29 18:15:47.990526\n",
      "Data 10 dias no futuro: 2023-07-09 18:15:47.990526\n",
      "Data 10 dias no passado: 2023-06-19 18:15:47.990526\n"
     ]
    }
   ],
   "source": [
    "from datetime import datetime, timedelta\n",
    "\n",
    "data_atual = datetime.now()\n",
    "print(f\"Data atual: {data_atual}\")\n",
    "\n",
    "data_futura = data_atual + timedelta(days=10)\n",
    "print(f\"Data 10 dias no futuro: {data_futura}\")\n",
    "\n",
    "data_passada = data_atual - timedelta(days=10)\n",
    "print(f\"Data 10 dias no passado: {data_passada}\")"
   ]
  },
  {
   "cell_type": "code",
   "execution_count": 7,
   "metadata": {
    "ExecuteTime": {
     "end_time": "2023-06-29T19:33:25.876449500Z",
     "start_time": "2023-06-29T19:33:25.853426300Z"
    },
    "collapsed": false,
    "jupyter": {
     "outputs_hidden": false
    }
   },
   "outputs": [
    {
     "name": "stdout",
     "output_type": "stream",
     "text": [
      "10 horas adiante: 2023-06-30 04:15:47.990526\n"
     ]
    }
   ],
   "source": [
    "dez_horas_adiante = data_atual + timedelta(hours=10)\n",
    "print(f\"10 horas adiante: {dez_horas_adiante}\")"
   ]
  },
  {
   "cell_type": "markdown",
   "metadata": {},
   "source": [
    "## Criação de um objeto datetime\n",
    "\n",
    "Podemos criar um objeto datetime usando a classe `datetime`. O construtor da classe possui como principais argumentos:\n",
    "\n",
    "- `year`: ano (por exemplo, 2023)\n",
    "- `month`: mês (1-12)\n",
    "- `day`: dia (1-31)\n",
    "- `hour`: hora (0-23)\n",
    "- `minute`: minuto (0-59)\n",
    "- `second`: segundo (0-59)\n",
    "- `microsecond`: microssegundo (0-999999)\n",
    "- `tzinfo`: fuso horário"
   ]
  },
  {
   "cell_type": "code",
   "execution_count": 8,
   "metadata": {
    "ExecuteTime": {
     "end_time": "2023-06-29T19:33:25.943922200Z",
     "start_time": "2023-06-29T19:33:25.869733200Z"
    },
    "collapsed": false,
    "jupyter": {
     "outputs_hidden": false
    }
   },
   "outputs": [
    {
     "name": "stdout",
     "output_type": "stream",
     "text": [
      "Data: 2023-07-20 08:30:20\n"
     ]
    }
   ],
   "source": [
    "from datetime import datetime\n",
    "\n",
    "data = datetime(2023, 7, 20, 8, 30, 20)\n",
    "print(f\"Data: {data}\")\n"
   ]
  },
  {
   "cell_type": "code",
   "execution_count": 9,
   "metadata": {
    "ExecuteTime": {
     "end_time": "2023-06-29T19:33:25.959916600Z",
     "start_time": "2023-06-29T19:33:25.885747Z"
    },
    "collapsed": false,
    "jupyter": {
     "outputs_hidden": false
    }
   },
   "outputs": [
    {
     "name": "stdout",
     "output_type": "stream",
     "text": [
      "Data: 2023-07-20 00:00:00\n"
     ]
    }
   ],
   "source": [
    "data = datetime(2023, 7, 20)\n",
    "print(f\"Data: {data}\")"
   ]
  },
  {
   "cell_type": "code",
   "execution_count": 10,
   "metadata": {
    "ExecuteTime": {
     "end_time": "2023-06-29T19:33:25.959916600Z",
     "start_time": "2023-06-29T19:33:25.901762400Z"
    },
    "collapsed": false,
    "jupyter": {
     "outputs_hidden": false
    }
   },
   "outputs": [
    {
     "name": "stdout",
     "output_type": "stream",
     "text": [
      "Data: 2023-07-20 08:30:20.100000\n"
     ]
    }
   ],
   "source": [
    "data = datetime(2023, 7, 20, 8, 30, 20, 100000)\n",
    "print(f\"Data: {data}\")"
   ]
  },
  {
   "cell_type": "markdown",
   "metadata": {},
   "source": [
    "`fromisoformat()` é um método de classe que converte uma string em um objeto datetime."
   ]
  },
  {
   "cell_type": "code",
   "execution_count": 11,
   "metadata": {
    "ExecuteTime": {
     "end_time": "2023-06-29T19:33:25.961156400Z",
     "start_time": "2023-06-29T19:33:25.915180700Z"
    },
    "collapsed": false,
    "jupyter": {
     "outputs_hidden": false
    }
   },
   "outputs": [
    {
     "name": "stdout",
     "output_type": "stream",
     "text": [
      "Data/hora: 2023-06-26 15:30:20\n"
     ]
    }
   ],
   "source": [
    "data_hora_iso = datetime.fromisoformat(\"2023-06-26 15:30:20\")\n",
    "print(f\"Data/hora: {data_hora_iso}\")"
   ]
  },
  {
   "cell_type": "markdown",
   "metadata": {},
   "source": [
    "## Calcular a diferença entre duas datas\n",
    "\n",
    "Podemos calcular a diferença entre duas datas subtraindo uma da outra. O resultado será um objeto timedelta.\n"
   ]
  },
  {
   "cell_type": "code",
   "execution_count": 12,
   "metadata": {
    "ExecuteTime": {
     "end_time": "2023-06-29T19:33:25.961658100Z",
     "start_time": "2023-06-29T19:33:25.932559400Z"
    },
    "collapsed": false,
    "jupyter": {
     "outputs_hidden": false
    }
   },
   "outputs": [
    {
     "name": "stdout",
     "output_type": "stream",
     "text": [
      "A diferença entre as duas datas é de 30 dias.\n"
     ]
    }
   ],
   "source": [
    "from datetime import datetime\n",
    "\n",
    "data1 = datetime(2023, 6, 25)\n",
    "data2 = datetime(2023, 7, 25)\n",
    "\n",
    "diferenca = data2 - data1\n",
    "print(f\"A diferença entre as duas datas é de {diferenca.days} dias.\")\n"
   ]
  },
  {
   "cell_type": "code",
   "execution_count": 13,
   "metadata": {
    "ExecuteTime": {
     "end_time": "2023-06-29T19:33:25.961658100Z",
     "start_time": "2023-06-29T19:33:25.945989500Z"
    },
    "collapsed": false,
    "jupyter": {
     "outputs_hidden": false
    }
   },
   "outputs": [
    {
     "data": {
      "text/plain": [
       "datetime.timedelta"
      ]
     },
     "execution_count": 13,
     "metadata": {},
     "output_type": "execute_result"
    }
   ],
   "source": [
    "type(diferenca)"
   ]
  },
  {
   "cell_type": "code",
   "execution_count": 14,
   "metadata": {
    "tags": []
   },
   "outputs": [
    {
     "data": {
      "text/plain": [
       "30"
      ]
     },
     "execution_count": 14,
     "metadata": {},
     "output_type": "execute_result"
    }
   ],
   "source": [
    "diferenca.days"
   ]
  },
  {
   "cell_type": "markdown",
   "metadata": {},
   "source": [
    "## Comparação entre datas\n",
    "\n",
    "Podemos comparar datas usando os operadores de comparação padrão.\n",
    "\n",
    "Segue uma lógica intuitiva:\n",
    "\n",
    "    passado < presente < futuro\n"
   ]
  },
  {
   "cell_type": "code",
   "execution_count": 17,
   "metadata": {
    "ExecuteTime": {
     "end_time": "2023-06-29T19:33:26.062460100Z",
     "start_time": "2023-06-29T19:33:25.961658100Z"
    },
    "collapsed": false,
    "jupyter": {
     "outputs_hidden": false
    }
   },
   "outputs": [
    {
     "name": "stdout",
     "output_type": "stream",
     "text": [
      "As datas são iguais\n"
     ]
    }
   ],
   "source": [
    "from datetime import datetime\n",
    "\n",
    "data1 = datetime(2023, 7, 25)\n",
    "data2 = datetime(2023, 7, 25)\n",
    "\n",
    "if data1 > data2:\n",
    "    print(\"A data1 é posterior à data2\")\n",
    "elif data1 < data2:\n",
    "    print(\"A data1 é anterior à data2\")\n",
    "else:\n",
    "    print(\"As datas são iguais\")\n"
   ]
  },
  {
   "cell_type": "code",
   "execution_count": 18,
   "metadata": {
    "ExecuteTime": {
     "end_time": "2023-06-29T19:33:26.063474600Z",
     "start_time": "2023-06-29T19:33:25.977740Z"
    },
    "collapsed": false,
    "jupyter": {
     "outputs_hidden": false
    }
   },
   "outputs": [
    {
     "name": "stdout",
     "output_type": "stream",
     "text": [
      "A data1 é posterior à data2\n"
     ]
    }
   ],
   "source": [
    "data1 = datetime(2023, 7, 25, 8, 30, 30)\n",
    "data2 = datetime(2023, 7, 25, 8, 30, 20)\n",
    "\n",
    "if data1 > data2:\n",
    "    print(\"A data1 é posterior à data2\")\n",
    "elif data1 < data2:\n",
    "    print(\"A data1 é anterior à data2\")\n",
    "else:\n",
    "    print(\"As datas são iguais\")\n"
   ]
  },
  {
   "cell_type": "markdown",
   "metadata": {},
   "source": [
    "## Ordenando uma lista de datas\n",
    "\n",
    "Podemos usar a função `sorted` para ordenar uma lista de datas."
   ]
  },
  {
   "cell_type": "code",
   "execution_count": 19,
   "metadata": {
    "ExecuteTime": {
     "end_time": "2023-06-29T19:33:26.063474600Z",
     "start_time": "2023-06-29T19:33:25.992250700Z"
    },
    "collapsed": false,
    "jupyter": {
     "outputs_hidden": false
    }
   },
   "outputs": [
    {
     "name": "stdout",
     "output_type": "stream",
     "text": [
      "[datetime.datetime(2023, 5, 28, 0, 0), datetime.datetime(2023, 6, 18, 0, 0), datetime.datetime(2023, 6, 28, 0, 0), datetime.datetime(2023, 7, 28, 0, 0)]\n"
     ]
    }
   ],
   "source": [
    "from datetime import datetime\n",
    "\n",
    "datas = [\n",
    "    datetime(2023, 6, 28),\n",
    "    datetime(2023, 5, 28),\n",
    "    datetime(2023, 7, 28),\n",
    "    datetime(2023, 6, 18),\n",
    "]\n",
    "\n",
    "datas_ordenadas = sorted(datas)\n",
    "\n",
    "print(datas_ordenadas)"
   ]
  },
  {
   "cell_type": "code",
   "execution_count": 20,
   "metadata": {
    "ExecuteTime": {
     "end_time": "2023-06-29T19:33:26.063474600Z",
     "start_time": "2023-06-29T19:33:26.008810900Z"
    },
    "collapsed": false,
    "jupyter": {
     "outputs_hidden": false
    },
    "tags": []
   },
   "outputs": [
    {
     "name": "stdout",
     "output_type": "stream",
     "text": [
      "2023-05-28\n",
      "2023-06-18\n",
      "2023-06-28\n",
      "2023-07-28\n"
     ]
    }
   ],
   "source": [
    "for data in datas_ordenadas:\n",
    "    print(data.date())\n"
   ]
  }
 ],
 "metadata": {
  "kernelspec": {
   "display_name": "Python 3 (ipykernel)",
   "language": "python",
   "name": "python3"
  },
  "language_info": {
   "codemirror_mode": {
    "name": "ipython",
    "version": 3
   },
   "file_extension": ".py",
   "mimetype": "text/x-python",
   "name": "python",
   "nbconvert_exporter": "python",
   "pygments_lexer": "ipython3",
   "version": "3.10.11"
  }
 },
 "nbformat": 4,
 "nbformat_minor": 4
}
