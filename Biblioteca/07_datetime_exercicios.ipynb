{
 "cells": [
  {
   "cell_type": "markdown",
   "metadata": {},
   "source": [
    "## Oferecendo desconto para cliente com base na última compra\n",
    "\n",
    "Suponha que você está trabalhando para uma empresa que deseja rastrear a atividade do cliente. Uma métrica que eles estão interessados é o tempo que passou desde a última transação do cliente (10 de maio 2023). Se for muito tempo, eles podem oferecer um desconto para o cliente. Crie um script Python que mostra quanto tempo se passou desde a última compra do cliente. Se faz mais de 30 dias, mostre uma mensagem oferecendo um desconto para o cliente."
   ]
  },
  {
   "cell_type": "code",
   "execution_count": 4,
   "metadata": {},
   "outputs": [
    {
     "name": "stdout",
     "output_type": "stream",
     "text": [
      "2023-07-10 00:00:00\n",
      "2023-07-27 23:28:11.731295\n",
      "falta 17 dias para que voce possa ganhar um desconto\n"
     ]
    }
   ],
   "source": [
    "from datetime import datetime\n",
    "\n",
    "compra = datetime(2023, 7, 10)\n",
    "atual = datetime.now()\n",
    "\n",
    "print(compra)\n",
    "print(atual)\n",
    "\n",
    "diferenca = atual - compra\n",
    "\n",
    "if diferenca.days >= 30:\n",
    "    print(\"voce ganhou um desconto\")\n",
    "else:\n",
    "    print(f\"falta {diferenca.days} dias para que voce possa ganhar um desconto\")"
   ]
  },
  {
   "cell_type": "markdown",
   "metadata": {},
   "source": [
    "## Data e hora em diferentes fusos horários\n",
    "\n",
    "Uma empresa tem escritórios em São Paulo, Nova York e Tóquio. Crie um script Python que mostra a data e hora atuais nesses três fusos horários. Exiba, também, se estes escritórios estão abertos ou fechados (9h às 17h).\n"
   ]
  },
  {
   "cell_type": "code",
   "execution_count": 7,
   "metadata": {},
   "outputs": [
    {
     "name": "stdout",
     "output_type": "stream",
     "text": [
      " Data/hora em São Paulo: 2023-07-28 00:00:58.681490-03:00\n",
      " Data/hora em Nova York 2023-07-27 23:00:58.681490-04:00\n",
      " Data/hora em Toquio 2023-07-28 12:00:58.681490+09:00\n"
     ]
    }
   ],
   "source": [
    "from datetime import datetime\n",
    "from zoneinfo import ZoneInfo\n",
    "\n",
    "\n",
    "atual = datetime.now()\n",
    "\n",
    "fuso_saopaulo = ZoneInfo(\"America/Sao_Paulo\")\n",
    "fuso_ny = ZoneInfo(\"America/New_York\")\n",
    "fuso_tokyo = ZoneInfo(\"Asia/Tokyo\")\n",
    "\n",
    "\n",
    "data_saopaulo = atual.astimezone(fuso_saopaulo)\n",
    "data_ny = atual.astimezone(fuso_ny)\n",
    "data_tokyo = atual.astimezone(fuso_tokyo)\n",
    "\n",
    "print(f\" Data/hora em São Paulo: {data_saopaulo}\\n Data/hora em Nova York {data_ny}\\n Data/hora em Toquio {data_tokyo}\")"
   ]
  },
  {
   "cell_type": "code",
   "execution_count": 14,
   "metadata": {},
   "outputs": [
    {
     "name": "stdout",
     "output_type": "stream",
     "text": [
      "Escritório de São Paulo está: Fechado\n",
      "Escritório de Nova York está: Fechado\n",
      "Escritório de Toqui está: Aberto\n"
     ]
    }
   ],
   "source": [
    "def verifica (data_hora):\n",
    "\n",
    "    if 9 <= data_hora.hour < 17:\n",
    "        return \"Aberto\"\n",
    "    else:\n",
    "        return \"Fechado\"\n",
    "    \n",
    "print(f\"Escritório de São Paulo está: {verifica(data_saopaulo)}\")\n",
    "print(f\"Escritório de Nova York está: {verifica(data_ny)}\")\n",
    "print(f\"Escritório de Toqui está: {verifica(data_tokyo)}\")\n"
   ]
  }
 ],
 "metadata": {
  "kernelspec": {
   "display_name": "Python 3 (ipykernel)",
   "language": "python",
   "name": "python3"
  },
  "language_info": {
   "codemirror_mode": {
    "name": "ipython",
    "version": 3
   },
   "file_extension": ".py",
   "mimetype": "text/x-python",
   "name": "python",
   "nbconvert_exporter": "python",
   "pygments_lexer": "ipython3",
   "version": "3.11.4"
  }
 },
 "nbformat": 4,
 "nbformat_minor": 4
}
