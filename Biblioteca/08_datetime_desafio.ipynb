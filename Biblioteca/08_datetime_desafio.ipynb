{
 "cells": [
  {
   "cell_type": "markdown",
   "metadata": {},
   "source": [
    "## Calculando a idade\n",
    "\n",
    "Um usuário fornece sua data de nascimento no formato \"dd/mm/aaaa\". Crie um script Python que calcula a idade do usuário.\n"
   ]
  },
  {
   "cell_type": "code",
   "execution_count": 11,
   "metadata": {},
   "outputs": [],
   "source": [
    "from datetime import datetime\n",
    "\n",
    "nascimento = input(\"Informe sua data de nascimento (dd/mm/aaaa):\")"
   ]
  },
  {
   "cell_type": "code",
   "execution_count": 12,
   "metadata": {},
   "outputs": [
    {
     "name": "stdout",
     "output_type": "stream",
     "text": [
      "25/08/2005\n",
      "<class 'str'>\n"
     ]
    }
   ],
   "source": [
    "print(nascimento)\n",
    "print(type(nascimento))"
   ]
  },
  {
   "cell_type": "code",
   "execution_count": 13,
   "metadata": {},
   "outputs": [
    {
     "name": "stdout",
     "output_type": "stream",
     "text": [
      "2005-08-25 00:00:00\n",
      "2023-07-28 00:52:15.592541\n",
      "18\n"
     ]
    }
   ],
   "source": [
    "nascimento = datetime.strptime(nascimento, \"%d/%m/%Y\")\n",
    "print(nascimento)\n",
    "\n",
    "atual = datetime.now()\n",
    "print(atual)\n",
    "\n",
    "idade = atual.year - nascimento.year\n",
    "print(idade)\n",
    "\n",
    "mes_atual = atual.month\n",
    "dia_atual = atual.day\n",
    "\n",
    "nascimento_mes = nascimento.month\n",
    "nascimento_dia = nascimento.day\n"
   ]
  },
  {
   "cell_type": "code",
   "execution_count": 14,
   "metadata": {},
   "outputs": [
    {
     "name": "stdout",
     "output_type": "stream",
     "text": [
      "17\n"
     ]
    }
   ],
   "source": [
    "if  nascimento_mes > mes_atual:\n",
    "    idade -= 1\n",
    "elif nascimento_mes == mes_atual and nascimento_dia > dia_atual:\n",
    "    idade -= 1\n",
    "\n",
    "print(idade)"
   ]
  }
 ],
 "metadata": {
  "kernelspec": {
   "display_name": "Python 3 (ipykernel)",
   "language": "python",
   "name": "python3"
  },
  "language_info": {
   "codemirror_mode": {
    "name": "ipython",
    "version": 3
   },
   "file_extension": ".py",
   "mimetype": "text/x-python",
   "name": "python",
   "nbconvert_exporter": "python",
   "pygments_lexer": "ipython3",
   "version": "3.11.4"
  }
 },
 "nbformat": 4,
 "nbformat_minor": 4
}
