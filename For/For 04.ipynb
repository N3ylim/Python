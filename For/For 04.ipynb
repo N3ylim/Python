{
 "cells": [
  {
   "cell_type": "markdown",
   "metadata": {},
   "source": [
    "# Enumerate\n",
    "\n",
    "### Estrutura:\n",
    "\n",
    "O enumerate permite que você percorra uma lista e ao mesmo tempo tenha em uma variável o índice daquele item.\n",
    "\n",
    "- for normalmente"
   ]
  },
  {
   "cell_type": "raw",
   "metadata": {},
   "source": [
    "for item in lista:\n",
    "    resto do código"
   ]
  },
  {
   "cell_type": "code",
   "execution_count": null,
   "metadata": {},
   "outputs": [],
   "source": [
    "funcionarios = ['Maria', 'José', 'Antônio', 'João', 'Francisco', 'Ana', 'Luiz', 'Paulo', 'Carlos', 'Manoel', 'Pedro', 'Francisca', 'Marcos', 'Raimundo', 'Sebastião', 'Antônia', 'Marcelo', 'Jorge', 'Márcia', 'Geraldo', 'Adriana', 'Sandra', 'Luis']\n",
    "for funcionario in funcionarios:\n",
    "    print(funcionario)"
   ]
  },
  {
   "cell_type": "raw",
   "metadata": {},
   "source": [
    "for i, item in enumerate(lista):\n",
    "    resto do código"
   ]
  },
  {
   "cell_type": "code",
   "execution_count": null,
   "metadata": {
    "scrolled": false
   },
   "outputs": [],
   "source": [
    "funcionarios = ['Maria', 'José', 'Antônio', 'João', 'Francisco', 'Ana', 'Luiz', 'Paulo', 'Carlos', 'Manoel', 'Pedro', 'Francisca', 'Marcos', 'Raimundo', 'Sebastião', 'Antônia', 'Marcelo', 'Jorge', 'Márcia', 'Geraldo', 'Adriana', 'Sandra', 'Luis']\n",
    "\n",
    "for i, funcionario in enumerate(funcionarios):\n",
    "    print('{} é o funcionário {}'.format(i, funcionario))"
   ]
  },
  {
   "cell_type": "markdown",
   "metadata": {},
   "source": [
    "### Exemplo Prático\n",
    "\n",
    "Vamos pegar um exemplo de nível mínimo de estoque. Em uma fábrica você tem vários produtos e não pode deixar que os produtos fiquem em falta. Para isso, foi definido uma quantidade mínima de estoque que os produtos precisam ter:\n",
    "\n",
    "Identifique quais produtos estão abaixo do nível mínimo de estoque."
   ]
  },
  {
   "cell_type": "code",
   "execution_count": 20,
   "metadata": {},
   "outputs": [
    {
     "name": "stdout",
     "output_type": "stream",
     "text": [
      "dolly está abaixo do nível minimo. Temos apenas 20 unidades\n",
      "red bull está abaixo do nível minimo. Temos apenas 23 unidades\n"
     ]
    }
   ],
   "source": [
    "estoque = [1200, 300, 800, 1500, 1900, 2750, 400, 20, 23, 70, 90, 80, 1100, 999, 900, 880, 870, 50, 1111, 120, 300, 450, 800]\n",
    "produtos = ['coca', 'pepsi', 'guarana', 'skol', 'brahma', 'agua', 'del valle', 'dolly', 'red bull', 'cachaça', 'vinho tinto', 'vodka', 'vinho branco', 'tequila', 'champagne', 'gin', 'guaracamp', 'matte', 'leite de castanha', 'leite', 'jurupinga', 'sprite', 'fanta']\n",
    "nivel_minimo = 50\n",
    "\n",
    "for i, qtde in enumerate(estoque):\n",
    "    if qtde < nivel_minimo:\n",
    "        print(f'{produtos[i]} está abaixo do nível minimo. Temos apenas {qtde} unidades')      "
   ]
  }
 ],
 "metadata": {
  "kernelspec": {
   "display_name": "Python 3",
   "language": "python",
   "name": "python3"
  },
  "language_info": {
   "codemirror_mode": {
    "name": "ipython",
    "version": 3
   },
   "file_extension": ".py",
   "mimetype": "text/x-python",
   "name": "python",
   "nbconvert_exporter": "python",
   "pygments_lexer": "ipython3",
   "version": "3.11.1"
  },
  "vscode": {
   "interpreter": {
    "hash": "dc0477cf93cebccc657827a309cd32088bf39bdae479fe681e3bd1ac79598d82"
   }
  }
 },
 "nbformat": 4,
 "nbformat_minor": 4
}
