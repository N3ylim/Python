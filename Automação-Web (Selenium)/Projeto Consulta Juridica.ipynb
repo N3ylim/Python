{
 "cells": [
  {
   "cell_type": "code",
   "execution_count": 98,
   "id": "a5bbebcb",
   "metadata": {},
   "outputs": [],
   "source": [
    "# criar o navegador\n",
    "from selenium import webdriver\n",
    "from selenium.webdriver.chrome.service import Service\n",
    "from webdriver_manager.chrome import ChromeDriverManager\n",
    "from selenium.webdriver.common.by import By\n",
    "import time\n",
    "\n",
    "\n",
    "servico = Service(ChromeDriverManager().install())\n",
    "navegador = webdriver.Chrome(service=servico)"
   ]
  },
  {
   "cell_type": "code",
   "execution_count": 99,
   "id": "b1863ba7",
   "metadata": {},
   "outputs": [],
   "source": [
    "# abrir a página index (entrar no site da busca jurídica)\n",
    "import os\n",
    "caminho = os.getcwd()\n",
    "arquivo = caminho + r'\\Sites\\index2.html'\n",
    "navegador.get(arquivo)\n",
    "time.sleep(1)"
   ]
  },
  {
   "cell_type": "code",
   "execution_count": 100,
   "id": "652f7b92",
   "metadata": {},
   "outputs": [],
   "source": [
    "# escolhendo o estado\n",
    "from selenium.webdriver import ActionChains\n",
    "\n",
    "trem = navegador.find_element(By.XPATH, '/html/body/div/div/button')\n",
    "treco = navegador.find_element(By.XPATH, '/html/body/div/div/div/a[3]')\n",
    "\n",
    "#colocar o mouse em cima do trem(no botão)\n",
    "ActionChains(navegador).move_to_element(trem).perform()\n",
    "#clicando no treco(no estado)\n",
    "treco.click()"
   ]
  },
  {
   "cell_type": "code",
   "execution_count": 101,
   "id": "4e6ed723",
   "metadata": {},
   "outputs": [],
   "source": [
    "# trocar de uma janela para outra\n",
    "aba_estado = navegador.window_handles[0]\n",
    "aba_pesquisa = navegador.window_handles[1]\n",
    "navegador.switch_to.window(aba_pesquisa)"
   ]
  },
  {
   "cell_type": "code",
   "execution_count": 102,
   "id": "01257c09",
   "metadata": {},
   "outputs": [],
   "source": [
    "# completar pesquisa jurídica\n",
    "navegador.find_element(By.ID, 'nome').send_keys('Neylor') #nome\n",
    "navegador.find_element(By.ID, 'advogado').send_keys('Popozão') #advogado\n",
    "navegador.find_element(By.ID, 'numero').send_keys('145') #Nº processos\n",
    "\n",
    "#clicar no botão de pesquisar\n",
    "navegador.find_element(By.CLASS_NAME, 'registerbtn').click()"
   ]
  },
  {
   "cell_type": "code",
   "execution_count": 103,
   "id": "b2996dd1",
   "metadata": {},
   "outputs": [],
   "source": [
    "# lidando com os prompts\n",
    "\n",
    "#primeira\n",
    "from selenium.webdriver.common.alert import Alert\n",
    "alerta = Alert(navegador)\n",
    "alerta.accept()"
   ]
  },
  {
   "cell_type": "code",
   "execution_count": 104,
   "id": "3ffdbd6a",
   "metadata": {},
   "outputs": [],
   "source": [
    "# esperar o alertar aparecer, e depos aceita-lo\n",
    "\n",
    "while True:\n",
    "    try:\n",
    "        alerta = Alert(navegador)\n",
    "        texto_alerta = alerta.text\n",
    "        break\n",
    "    except:\n",
    "        time.sleep(1)"
   ]
  },
  {
   "cell_type": "code",
   "execution_count": 105,
   "id": "6039e400",
   "metadata": {},
   "outputs": [
    {
     "name": "stdout",
     "output_type": "stream",
     "text": [
      "Processo foi encontrado\n"
     ]
    }
   ],
   "source": [
    "# pegando texto do alerta e dando os resultados da pesquisa\n",
    "\n",
    "if \"Processo encontrado com sucesso\" in texto_alerta:\n",
    "    alerta.accept()\n",
    "    print('Processo foi encontrado')\n",
    "else:\n",
    "    print('Nenhum processo foi encontrado')\n",
    "    alerta.accept()"
   ]
  },
  {
   "cell_type": "code",
   "execution_count": 106,
   "id": "83351ae6",
   "metadata": {},
   "outputs": [],
   "source": [
    "# usando o Expected Conditions\n",
    "# from selenium.webdriver.support.ui import WebDriverWait\n",
    "# from selenium.webdriver.support import expected_conditions as EC\n",
    "\n",
    "# alerta = WebDriverWait(navegador, 30).until(EC.alert_is_present())\n",
    "# texto = alerta.text\n",
    "\n",
    "# if \"Processo encontrado com sucesso\" in texto:\n",
    "#     alerta.accept()\n",
    "#     print('Processo foi encontrado')\n",
    "# else:\n",
    "#     print('Nenhum processo foi encontrado')\n",
    "#     alerta.accept()"
   ]
  }
 ],
 "metadata": {
  "kernelspec": {
   "display_name": "Python 3 (ipykernel)",
   "language": "python",
   "name": "python3"
  },
  "language_info": {
   "codemirror_mode": {
    "name": "ipython",
    "version": 3
   },
   "file_extension": ".py",
   "mimetype": "text/x-python",
   "name": "python",
   "nbconvert_exporter": "python",
   "pygments_lexer": "ipython3",
   "version": "3.11.1"
  }
 },
 "nbformat": 4,
 "nbformat_minor": 5
}
