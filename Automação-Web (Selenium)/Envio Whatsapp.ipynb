{
 "cells": [
  {
   "attachments": {},
   "cell_type": "markdown",
   "id": "cf42a93c",
   "metadata": {},
   "source": [
    "### Cuidados!\n",
    " \n",
    "1. Whatsapp não gosta de nenhum tipo de automação\n",
    "2. Isso pode dar merda, já to avisando\n",
    "3. Isso não é o uso da API oficial do Whatsapp, o próprio whatsapp tem uma API oficial. Se o seu objetivo é fazer envio em massa ou criar aqueles robozinhos que respondem automaticamente no whatsapp, então use a API oficial\n",
    "4. Meu objetivo é 100% educacional\n",
    "\n",
    "### Dito isso, bora automatizar o envio de mensagens no Whatsapp\n",
    "\n",
    "- Vamos usar o Selenium (vídeo da configuração na descrição)\n",
    "- Temos 1 alternativa muito boa:\n",
    "- Usar o https://web.whatsapp.com/send?phone=numero&text=texto (mais fácil, mais seguro, mas mais demorado)\n"
   ]
  },
  {
   "cell_type": "code",
   "execution_count": 51,
   "id": "dc363f99",
   "metadata": {},
   "outputs": [],
   "source": [
    "import pandas as pd\n",
    "\n",
    "# criando minha lista\n",
    "envios = {\n",
    "'Momo': {'Mensagem': 'Oi fulano, isso é uma mensagem automatica','Telefone': '+55 34 9782-0017', 'Arquivo':''},\n",
    "'Pai': {'Mensagem': 'Oi fulano, isso é uma msg automatica','Telefone': '+55 34 9995-7957', 'Arquivo':''},\n",
    "'Cachorro': {'Mensagem': 'Iai fulano, isso é uma msg automatica','Telefone': '+55 31 9461-1947', 'Arquivo': \"pythonimpressionador.png\"}\n",
    "         }\n",
    "\n",
    "# Converter o dicionário em uma lista\n",
    "lista_agenda = [(nome, dados['Mensagem'], dados['Telefone'], dados['Arquivo']) for nome, dados in envios.items()]\n",
    "\n",
    "# Criar um DataFrame pandas a partir da lista\n",
    "df = pd.DataFrame(lista_agenda, columns=['Nome', 'Mensagem', 'Telefone', 'Arquivo'])\n",
    "\n",
    "# Exportar o DataFrame para um arquivo Excel\n",
    "df.to_excel('Envios.xlsx', index=False)\n"
   ]
  },
  {
   "cell_type": "code",
   "execution_count": 52,
   "id": "3e3ca8a5",
   "metadata": {},
   "outputs": [],
   "source": [
    "# criar https://web.whatsapp.com/send?phone=numero&text=textoo navegador\n",
    "from selenium import webdriver\n",
    "from selenium.webdriver.chrome.service import Service\n",
    "from webdriver_manager.chrome import ChromeDriverManager\n",
    "from selenium.webdriver.common.by import By\n",
    "import time\n",
    "\n",
    "servico = Service(ChromeDriverManager().install())\n",
    "navegador = webdriver.Chrome(service=servico)\n",
    "\n",
    "navegador.get('https://web.whatsapp.com')\n",
    "# esperar o whatsAPP carregar\n",
    "\n",
    "while len(navegador.find_elements(By.CLASS_NAME, '_19vUU')) < 1:\n",
    "    time.sleep(1)\n",
    "time.sleep(2)"
   ]
  },
  {
   "cell_type": "code",
   "execution_count": 53,
   "id": "5ec2043b",
   "metadata": {},
   "outputs": [
    {
     "data": {
      "text/html": [
       "<div>\n",
       "<style scoped>\n",
       "    .dataframe tbody tr th:only-of-type {\n",
       "        vertical-align: middle;\n",
       "    }\n",
       "\n",
       "    .dataframe tbody tr th {\n",
       "        vertical-align: top;\n",
       "    }\n",
       "\n",
       "    .dataframe thead th {\n",
       "        text-align: right;\n",
       "    }\n",
       "</style>\n",
       "<table border=\"1\" class=\"dataframe\">\n",
       "  <thead>\n",
       "    <tr style=\"text-align: right;\">\n",
       "      <th></th>\n",
       "      <th>Nome</th>\n",
       "      <th>Mensagem</th>\n",
       "      <th>Telefone</th>\n",
       "      <th>Arquivo</th>\n",
       "    </tr>\n",
       "  </thead>\n",
       "  <tbody>\n",
       "    <tr>\n",
       "      <th>0</th>\n",
       "      <td>Momo</td>\n",
       "      <td>Oi fulano, isso é uma mensagem automatica</td>\n",
       "      <td>+553497820017</td>\n",
       "      <td>NaN</td>\n",
       "    </tr>\n",
       "    <tr>\n",
       "      <th>1</th>\n",
       "      <td>Pai</td>\n",
       "      <td>Oi fulano, isso é uma msg automatica</td>\n",
       "      <td>+553499957957</td>\n",
       "      <td>NaN</td>\n",
       "    </tr>\n",
       "    <tr>\n",
       "      <th>2</th>\n",
       "      <td>Cachorro</td>\n",
       "      <td>Iai fulano, isso é uma msg automatica</td>\n",
       "      <td>+553194611947</td>\n",
       "      <td>pythonimpressionador.png</td>\n",
       "    </tr>\n",
       "  </tbody>\n",
       "</table>\n",
       "</div>"
      ],
      "text/plain": [
       "       Nome                                   Mensagem       Telefone  \\\n",
       "0      Momo  Oi fulano, isso é uma mensagem automatica  +553497820017   \n",
       "1       Pai       Oi fulano, isso é uma msg automatica  +553499957957   \n",
       "2  Cachorro      Iai fulano, isso é uma msg automatica  +553194611947   \n",
       "\n",
       "                    Arquivo  \n",
       "0                       NaN  \n",
       "1                       NaN  \n",
       "2  pythonimpressionador.png  "
      ]
     },
     "metadata": {},
     "output_type": "display_data"
    }
   ],
   "source": [
    "# o whatsAPP já carregou\n",
    "tabela = pd.read_excel(r'Excel\\Envios.xlsx')\n",
    "# display(envios)\n",
    "\n",
    "for linha in tabela.index:\n",
    "    telefone = tabela.loc[linha, 'Telefone']\n",
    "    telefone = telefone.replace(\"-\", \"\")\n",
    "    telefone = telefone.replace(\" \", \"\")\n",
    "    tabela.loc[linha, 'Telefone'] = telefone\n",
    "\n",
    "\n",
    "display(tabela)"
   ]
  },
  {
   "cell_type": "code",
   "execution_count": 54,
   "id": "73522134",
   "metadata": {},
   "outputs": [],
   "source": [
    "import urllib\n",
    "from selenium.webdriver.support.ui import WebDriverWait\n",
    "from selenium.webdriver.support import expected_conditions as EC\n",
    "\n",
    "\n",
    "\n",
    "for linha in tabela.index:\n",
    "    #enviar uma mensagem para essa pessoa\n",
    "    nome = tabela.loc[linha, 'Nome']\n",
    "    mensagem = tabela.loc[linha, 'Mensagem']\n",
    "    telefone = tabela.loc[linha, 'Telefone']\n",
    "    arquivo = tabela.loc[linha, 'Arquivo']\n",
    "    \n",
    "    texto = mensagem.replace(\"fulano\", nome)\n",
    "    texto = urllib.parse.quote(texto)\n",
    "\n",
    "\n",
    "# enviar a mensagem\n",
    "link = f'https://web.whatsapp.com/send?phone={telefone}&text={mensagem}'\n",
    "\n",
    "navegador.get(link)\n",
    "    \n",
    "\n"
   ]
  },
  {
   "cell_type": "code",
   "execution_count": null,
   "id": "8624cd39",
   "metadata": {},
   "outputs": [],
   "source": []
  },
  {
   "cell_type": "code",
   "execution_count": null,
   "id": "768a2f1a",
   "metadata": {},
   "outputs": [],
   "source": []
  },
  {
   "cell_type": "code",
   "execution_count": null,
   "id": "f36bbcc5",
   "metadata": {},
   "outputs": [],
   "source": []
  }
 ],
 "metadata": {
  "kernelspec": {
   "display_name": "Python 3 (ipykernel)",
   "language": "python",
   "name": "python3"
  },
  "language_info": {
   "codemirror_mode": {
    "name": "ipython",
    "version": 3
   },
   "file_extension": ".py",
   "mimetype": "text/x-python",
   "name": "python",
   "nbconvert_exporter": "python",
   "pygments_lexer": "ipython3",
   "version": "3.11.1"
  }
 },
 "nbformat": 4,
 "nbformat_minor": 5
}
