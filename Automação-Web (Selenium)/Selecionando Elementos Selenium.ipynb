{
 "cells": [
  {
   "cell_type": "code",
   "execution_count": 60,
   "id": "4e28f9f7",
   "metadata": {},
   "outputs": [],
   "source": [
    "from selenium import webdriver\n",
    "from selenium.webdriver.chrome.service import Service\n",
    "from webdriver_manager.chrome import ChromeDriverManager\n",
    "\n",
    "servico = Service(ChromeDriverManager().install())\n",
    "navegador = webdriver.Chrome(service=servico)"
   ]
  },
  {
   "cell_type": "code",
   "execution_count": 57,
   "id": "59c8398d",
   "metadata": {},
   "outputs": [],
   "source": [
    "import os\n",
    "\n",
    "caminho = os.getcwd()\n",
    "arquivo = caminho + r\"\\Sites\\Pagina Hashtag.html\"\n",
    "navegador.get(arquivo)"
   ]
  },
  {
   "cell_type": "code",
   "execution_count": 58,
   "metadata": {},
   "outputs": [],
   "source": [
    "navegador.find_element(By.CLASS_NAME, r'custom-logo').click()\n",
    "navegador.find_element(By.XPATH, r'/html/body/div[1]/div[1]/div/div/div[1]/a[2]/span').click()\n",
    "\n",
    "navegador.close()"
   ]
  },
  {
   "cell_type": "code",
   "execution_count": 61,
   "id": "25228a28",
   "metadata": {},
   "outputs": [],
   "source": [
    "navegador.get(r\"https://www.hashtagtreinamentos.com/\")\n",
    "\n",
    "\n",
    "from selenium.webdriver.common.by import By\n",
    "\n",
    "campo_nome = navegador.find_element(By.XPATH, r'/html/body/div[1]/footer/div/div/div[1]/div[3]/div/form/div[1]/input')\n",
    "campo_nome.send_keys(\"Neyloba\")\n",
    "navegador.find_element(By.XPATH, r'/html/body/div[1]/footer/div/div/div[1]/div[3]/div/form/div[2]/input').send_keys(\"pythonimpressionador@gmail.com\")\n",
    "navegador.find_element(By.XPATH, r'/html/body/div[1]/footer/div/div/div[1]/div[3]/div/form/button').click()\n",
    "\n",
    "\n",
    "navegador.close()"
   ]
  }
 ],
 "metadata": {
  "kernelspec": {
   "display_name": "Python 3 (ipykernel)",
   "language": "python",
   "name": "python3"
  },
  "language_info": {
   "codemirror_mode": {
    "name": "ipython",
    "version": 3
   },
   "file_extension": ".py",
   "mimetype": "text/x-python",
   "name": "python",
   "nbconvert_exporter": "python",
   "pygments_lexer": "ipython3",
   "version": "3.11.1"
  }
 },
 "nbformat": 4,
 "nbformat_minor": 5
}
