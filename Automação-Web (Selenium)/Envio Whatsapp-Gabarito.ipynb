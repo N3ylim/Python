{
 "cells": [
  {
   "attachments": {},
   "cell_type": "markdown",
   "id": "f2ec8ffa",
   "metadata": {},
   "source": [
    "### Cuidados!\n",
    " \n",
    "1. Whatsapp não gosta de nenhum tipo de automação\n",
    "2. Isso pode dar merda, já to avisando\n",
    "3. Isso não é o uso da API oficial do Whatsapp, o próprio whatsapp tem uma API oficial. Se o seu objetivo é fazer envio em massa ou criar aqueles robozinhos que respondem automaticamente no whatsapp, então use a API oficial\n",
    "4. Meu objetivo é 100% educacional\n",
    "\n",
    "### Dito isso, bora automatizar o envio de mensagens no Whatsapp\n",
    "\n",
    "- Vamos usar o Selenium (vídeo da configuração na descrição)\n",
    "- Temos 1 alternativa muito boa:\n",
    "- Usar o https://web.whatsapp.com/send?phone=numero&text=texto (mais fácil, mais seguro, mas mais demorado)\n"
   ]
  },
  {
   "cell_type": "code",
   "execution_count": null,
   "id": "dab5ab81",
   "metadata": {},
   "outputs": [],
   "source": [
    "from selenium import webdriver\n",
    "from selenium.webdriver.common.keys import Keys\n",
    "from selenium.webdriver.common.by import By\n",
    "import time\n",
    "\n",
    "navegador = webdriver.Chrome()\n",
    "navegador.get(\"https://web.whatsapp.com\")\n",
    "\n",
    "# esperar a tela do whatsapp carregar\n",
    "while len(navegador.find_elements(By.ID, 'side')) < 1: # -> lista for vazia -> que o elemento não existe ainda\n",
    "    time.sleep(1)\n",
    "time.sleep(2) # só uma garantia"
   ]
  },
  {
   "cell_type": "code",
   "execution_count": null,
   "id": "6ce010db",
   "metadata": {},
   "outputs": [],
   "source": [
    "# o whatsapp já carregou\n",
    "import pandas as pd\n",
    "\n",
    "tabela = pd.read_excel(\"Envios.xlsx\")\n",
    "display(tabela[['nome', 'mensagem', 'arquivo']]) # tem também uma coluna telefone dentro da tabela"
   ]
  },
  {
   "cell_type": "code",
   "execution_count": null,
   "id": "a8f777d9",
   "metadata": {},
   "outputs": [],
   "source": [
    "import urllib\n",
    "import time\n",
    "import os\n",
    "\n",
    "for linha in tabela.index:\n",
    "    # enviar uma mensagem para a pessoa\n",
    "    nome = tabela.loc[linha, \"nome\"]\n",
    "    mensagem = tabela.loc[linha, \"mensagem\"]\n",
    "    arquivo = tabela.loc[linha, \"arquivo\"]\n",
    "    telefone = tabela.loc[linha, \"telefone\"]\n",
    "    \n",
    "    texto = mensagem.replace(\"fulano\", nome)\n",
    "    texto = urllib.parse.quote(texto)\n",
    "\n",
    "    # enviar a mensagem\n",
    "    link = f\"https://web.whatsapp.com/send?phone={telefone}&text={texto}\"\n",
    "    \n",
    "    navegador.get(link)\n",
    "    # esperar a tela do whatsapp carregar -> espera um elemento que só existe na tela já carregada aparecer\n",
    "    while len(navegador.find_elements(By.ID, 'side')) < 1: # -> lista for vazia -> que o elemento não existe ainda\n",
    "        time.sleep(1)\n",
    "    time.sleep(2) # só uma garantia\n",
    "    \n",
    "    # você tem que verificar se o número é inválido\n",
    "    if len(navegador.find_elements(By.XPATH, '//*[@id=\"app\"]/div/span[2]/div/span/div/div/div/div/div/div[1]')) < 1:\n",
    "        # enviar a mensagem\n",
    "        navegador.find_element(By.XPATH, '//*[@id=\"main\"]/footer/div[1]/div/span[2]/div/div[2]/div[2]/button/span').click()\n",
    "        \n",
    "        if arquivo != \"N\":\n",
    "            caminho_completo = os.path.abspath(f\"arquivos/{arquivo}\")\n",
    "            navegador.find_element(By.XPATH, \n",
    "                                   '//*[@id=\"main\"]/footer/div[1]/div/span[2]/div/div[1]/div[2]/div/div/span').click()\n",
    "            navegador.find_element(By.XPATH, \n",
    "                                   '//*[@id=\"main\"]/footer/div[1]/div/span[2]/div/div[1]/div[2]/div/span/div/div/ul/li[4]/button/input').send_keys(caminho_completo)\n",
    "            time.sleep(2)\n",
    "            navegador.find_element(By.XPATH, \n",
    "                                   '//*[@id=\"app\"]/div/div/div[2]/div[2]/span/div/span/div/div/div[2]/div/div[2]/div[2]/div/div').click()\n",
    "            \n",
    "        time.sleep(5)"
   ]
  }
 ],
 "metadata": {
  "kernelspec": {
   "display_name": "Python 3 (ipykernel)",
   "language": "python",
   "name": "python3"
  },
  "language_info": {
   "codemirror_mode": {
    "name": "ipython",
    "version": 3
   },
   "file_extension": ".py",
   "mimetype": "text/x-python",
   "name": "python",
   "nbconvert_exporter": "python",
   "pygments_lexer": "ipython3",
   "version": "3.11.4"
  }
 },
 "nbformat": 4,
 "nbformat_minor": 5
}
