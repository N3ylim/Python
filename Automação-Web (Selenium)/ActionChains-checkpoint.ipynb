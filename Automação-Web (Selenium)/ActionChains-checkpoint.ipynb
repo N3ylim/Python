{
 "cells": [
  {
   "attachments": {},
   "cell_type": "markdown",
   "id": "367cd714",
   "metadata": {},
   "source": [
    "### Documentação Selenium:\n",
    "\n",
    "- https://selenium-python.readthedocs.io/locating-elements.html"
   ]
  },
  {
   "cell_type": "code",
   "execution_count": 2,
   "id": "4e28f9f7",
   "metadata": {},
   "outputs": [],
   "source": [
    "# criar o navegador\n",
    "from selenium import webdriver\n",
    "from selenium.webdriver.chrome.service import Service\n",
    "from webdriver_manager.chrome import ChromeDriverManager\n",
    "from selenium.webdriver.common.by import By\n",
    "\n",
    "\n",
    "servico = Service(ChromeDriverManager().install())\n",
    "navegador = webdriver.Chrome(service=servico)"
   ]
  },
  {
   "cell_type": "code",
   "execution_count": 3,
   "id": "59c8398d",
   "metadata": {},
   "outputs": [],
   "source": [
    "# abrir a página index (entrar no site da busca jurídica)\n",
    "import os\n",
    "caminho = os.getcwd()\n",
    "arquivo = caminho + r'\\Sites\\index2.html'\n",
    "navegador.get(arquivo)"
   ]
  },
  {
   "attachments": {},
   "cell_type": "markdown",
   "id": "7d964ce5",
   "metadata": {},
   "source": [
    "#### Dropdown diferente em um site real"
   ]
  },
  {
   "cell_type": "code",
   "execution_count": 5,
   "id": "09f60749",
   "metadata": {},
   "outputs": [],
   "source": [
    "\n",
    "link = navegador.find_element(By.XPATH, '/html/body/div/div/div/a[3]').get_attribute('href')\n",
    "navegador.get(link)"
   ]
  },
  {
   "attachments": {},
   "cell_type": "markdown",
   "id": "80f18fcd",
   "metadata": {},
   "source": [
    "### ActionChains\n",
    "\n",
    "Link com a referência: https://www.selenium.dev/pt-br/documentation/webdriver/actions_api/mouse/"
   ]
  },
  {
   "cell_type": "code",
   "execution_count": null,
   "id": "dbac0005",
   "metadata": {},
   "outputs": [],
   "source": [
    "# escolhendo o estado\n",
    "from selenium.webdriver import ActionChains\n",
    "\n",
    "trem = navegador.find_element(By.XPATH, '/html/body/div/div/button')\n",
    "treco = navegador.find_element(By.XPATH, '/html/body/div/div/div/a[3]')\n",
    "\n",
    "#colocar o mouse em cima do trem(no botão)\n",
    "ActionChains(navegador).move_to_element(trem).perform()\n",
    "#clicando no treco(no estado)\n",
    "treco.click()"
   ]
  }
 ],
 "metadata": {
  "kernelspec": {
   "display_name": "Python 3 (ipykernel)",
   "language": "python",
   "name": "python3"
  },
  "language_info": {
   "codemirror_mode": {
    "name": "ipython",
    "version": 3
   },
   "file_extension": ".py",
   "mimetype": "text/x-python",
   "name": "python",
   "nbconvert_exporter": "python",
   "pygments_lexer": "ipython3",
   "version": "3.11.1"
  }
 },
 "nbformat": 4,
 "nbformat_minor": 5
}
