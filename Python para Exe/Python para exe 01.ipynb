{
 "cells": [
  {
   "cell_type": "markdown",
   "metadata": {
    "id": "MfeU3To_RWmK"
   },
   "source": [
    "# Transformando Códigos em Python para Executáveis\n",
    "\n",
    "### Objetivo:\n",
    "\n",
    "Os arquivos do jupyter que temos até aqui no curso são scripts que podemos usar para rodar códigos e fazer diversas tarefas.\n",
    "\n",
    "Mas, algumas vezes, não seremos nós que iremos rodar os códigos e também não necessariamente o computador que vai executar o código não necessariamente tem python instalado.\n",
    "\n",
    "Por isso, podemos transformar esses códigos em arquivos .exe (executáveis que funcionam em qualquer computador).\n",
    "\n",
    "### Cuidados\n",
    "\n",
    "Para códigos simples, basta fazermos a conversão de python para executável, mas em muitos códigos, temos que pensar se precisamos fazer alguma adaptação.\n",
    "\n",
    "Ex: Se o nosso código abre algum arquivo do nosso computador, temos que tornar essa ação de abrir o arquivo algo que funcione em qualquer computador. \n",
    "\n",
    "Sempre precisamos olhar o código e pensar: ele funcionaria em qualquer computador? Tem alguma coisa aqui nele que impede de funcionar no computador de outro pessoa? Se necessário, fazemos as adaptações. Vamos aprender como.\n",
    "\n",
    "### Funcionamento:\n",
    "\n",
    "- Passo 1 - Seu código deve estar funcionando sem erros no jupyter\n",
    "\n",
    "- Passo 2 - Transformar o código jupyter em scripts python padrão (extensão .py). Seu código deve estar funcionando nesse formato também.\n",
    "\n",
    "- Passo 3 - Usar uma biblioteca de conversão (pyinstaller ou auto-py-to-exe) para transformar o código em executável.\n",
    "\n",
    "- Passo 4 - Testar e adaptar o que for necessário."
   ]
  },
  {
   "cell_type": "code",
   "execution_count": 1,
   "metadata": {
    "id": "qa-9IZHYRRiC"
   },
   "outputs": [
    {
     "name": "stdout",
     "output_type": "stream",
     "text": [
      "Lira\n"
     ]
    }
   ],
   "source": [
    "print('Lira')"
   ]
  }
 ],
 "metadata": {
  "colab": {
   "authorship_tag": "ABX9TyPeZh4N6T9omHTUJgNKHM+o",
   "name": "Python para exe 01.ipynb",
   "provenance": []
  },
  "kernelspec": {
   "display_name": "Python 3",
   "language": "python",
   "name": "python3"
  },
  "language_info": {
   "codemirror_mode": {
    "name": "ipython",
    "version": 3
   },
   "file_extension": ".py",
   "mimetype": "text/x-python",
   "name": "python",
   "nbconvert_exporter": "python",
   "pygments_lexer": "ipython3",
   "version": "3.7.3"
  }
 },
 "nbformat": 4,
 "nbformat_minor": 1
}
