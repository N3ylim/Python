{
 "cells": [
  {
   "cell_type": "markdown",
   "metadata": {
    "id": "b4JhAh2zVtLX"
   },
   "source": [
    "# Python para exe com códigos simples\n",
    "\n",
    "### Códigos que não interagem com outros arquivos ou ferramentas do computador\n",
    "\n",
    "Usaremos a biblioteca pyinstaller\n",
    "\n",
    "- Passo 1 - Instalar o pyinstaller\n",
    "\n",
    "- Passo 2 - Executar o pyinstaller\n",
    "\n",
    "pyinstaller -w nome_do_programa.py"
   ]
  },
  {
   "cell_type": "code",
   "execution_count": 2,
   "metadata": {
    "id": "QyMJ1jUXVnXu"
   },
   "outputs": [
    {
     "name": "stdout",
     "output_type": "stream",
     "text": [
      "SM5d91ea0f829a1787d4eef271c6d94506\n"
     ]
    }
   ],
   "source": [
    "from twilio.rest import Client\n",
    "\n",
    "account_sid = 'AC241230583f6368a2ef9c7d6e7832be4c'\n",
    "token = '58e9337a4d0464d438357ab846d51084'\n",
    "\n",
    "client = Client(account_sid, token)\n",
    "\n",
    "remetente = '+12292672666'\n",
    "destino = '+5531998648054'\n",
    "\n",
    "message = client.messages.create(\n",
    "    to = destino,\n",
    "    from_ = remetente,\n",
    "    body = 'Salve'              )\n",
    "\n",
    "print(message.sid)"
   ]
  },
  {
   "cell_type": "markdown",
   "metadata": {
    "id": "37iaL3xlWjN2"
   },
   "source": [
    "### Atenção no resultado\n",
    "\n",
    "Repare que o programa final vai ficar extremamente pesado.\n",
    "\n",
    "Isso porque o pyinstaller vai incluir todas as bibliotecas que temos instaladas no programa final, para garantir que ele vai funcionar.\n",
    "\n",
    "Para evitar isso, precisaremos criar um ambiente virtual exclusivo para esse programa, vamos ver na prática como funciona na próxima aula"
   ]
  },
  {
   "cell_type": "markdown",
   "metadata": {},
   "source": [
    "### Observações Úteis\n",
    "\n",
    "- Se o nome do seu arquivo .py tiver mais de uma palavra, na hora de testar, coloque o nome dele entre aspas duplas.<br>Ex:  python \"Gabarito - SMS.py\"\n",
    "- Se o seu antivírus verificar o pyinstaller, não precisa se preocupar, é normal e tá tudo certo\n",
    "- Provavelmente a 1ª vez que você rodar o seu programa, o antivírus vai verificar ele também\n",
    "- A pasta dist é o que pode ser distribuído. Você pode compactar ela em um zip e mandar para quem você quiser"
   ]
  }
 ],
 "metadata": {
  "colab": {
   "authorship_tag": "ABX9TyMBXqtjkfYt9MRGhUP9LoJG",
   "name": "Python para exe 02.ipynb",
   "provenance": []
  },
  "kernelspec": {
   "display_name": "Python 3",
   "language": "python",
   "name": "python3"
  },
  "language_info": {
   "codemirror_mode": {
    "name": "ipython",
    "version": 3
   },
   "file_extension": ".py",
   "mimetype": "text/x-python",
   "name": "python",
   "nbconvert_exporter": "python",
   "pygments_lexer": "ipython3",
   "version": "3.11.4"
  }
 },
 "nbformat": 4,
 "nbformat_minor": 1
}
