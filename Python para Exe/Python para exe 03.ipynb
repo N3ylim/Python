{
 "cells": [
  {
   "cell_type": "markdown",
   "metadata": {
    "id": "WrvoB2xCXE32"
   },
   "source": [
    "# Diminuindo o tamanho do executável final - Ambiente Virtual\n",
    "\n",
    "### Objetivo\n",
    "\n",
    "Para diminuir o tamanho do arquivo a ser distribuído no final, vamos criar um ambiente virtual para garantir que teremos apenas as bibliotecas importantes.\n",
    "\n",
    "- Passo 1: Garantir que o código está funcionando\n",
    "- Passo 2: Criar o ambiente virtual\n",
    "- Passo 3: Executar o nosso código por dentro do ambiente virtual\n",
    "- Passo 4: Identificar erros e instalar bibliotecas que faltam, apenas as que o programa pede.\n",
    "- Passo 5: Instalar o pyinstaller e transformar em executável o programa Python"
   ]
  },
  {
   "cell_type": "code",
   "execution_count": null,
   "metadata": {
    "id": "eZ2I65iOXnyt"
   },
   "outputs": [],
   "source": [
    "#rodar o código de um programa que fazemos durante o curso que funcione. Exemplo o do outlook de enviar email\n",
    "from twilio.rest import Client\n",
    "\n",
    "account_sid = 'AC274236461c28f62d429961289af45b82'\n",
    "token = '6a2d1ea365d3674c749ce4cb7367d823'\n",
    "\n",
    "client = Client(account_sid, token)\n",
    "\n",
    "remetente = '+18126153399'\n",
    "destino = '+5521972795556'\n",
    "\n",
    "message = client.messages.create(\n",
    "    to=destino, \n",
    "    from_=remetente,\n",
    "    body=\"Coe, é o Lira aqui!\")\n",
    "\n",
    "print(message.sid)"
   ]
  }
 ],
 "metadata": {
  "colab": {
   "authorship_tag": "ABX9TyMa71pzVkyapCMNw1KuvpEI",
   "name": "Python para exe 03.ipynb",
   "provenance": []
  },
  "kernelspec": {
   "display_name": "Python 3",
   "language": "python",
   "name": "python3"
  },
  "language_info": {
   "codemirror_mode": {
    "name": "ipython",
    "version": 3
   },
   "file_extension": ".py",
   "mimetype": "text/x-python",
   "name": "python",
   "nbconvert_exporter": "python",
   "pygments_lexer": "ipython3",
   "version": "3.7.3"
  }
 },
 "nbformat": 4,
 "nbformat_minor": 1
}
