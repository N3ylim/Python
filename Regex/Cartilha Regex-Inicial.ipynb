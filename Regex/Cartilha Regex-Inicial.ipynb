{
 "cells": [
  {
   "cell_type": "markdown",
   "id": "4882c553",
   "metadata": {},
   "source": [
    "### Operadores\n",
    "\n",
    "    [] – conjunto de  caracteres;\n",
    "    \\ – sequência especial de caracteres;\n",
    "    ^ – buscar elementos no início da string;\n",
    "    $ – buscar elementos no final da string;\n",
    "    * – buscar zero ou mais repetições de uma substring;\n",
    "    + – uma ou mais aparições de uma substring;\n",
    "    ? – zero ou uma aparição;\n",
    "    | – busca um caractere ou outro.\n",
    "    {} - quantidade específica de caracteres\n",
    "    [^] - diferente de um caractere especificado logo após o ^\n",
    "    () - apenas para agrupar regras e definir ordem de aplicação (igual matemática)\n",
    "\n",
    "### Especificando caracteres:\n",
    "    . - qualquer caractere\n",
    "    \\d - qualquer dígito\n",
    "    \\D - não é dígito\n",
    "    \\w - qualquer alfanumérico\n",
    "    \\W - não é alfanumérico\n",
    "    \\s - espaço em branco\n",
    "    \\S - não é espaço em branco\n",
    "\n",
    "#### obs: lembre de usar a string como raw string\n",
    "\n",
    "### Funções\n",
    "#### Lembre sempre de importar a biblioteca re\n",
    "\n",
    "- re.compile('padrao_regex') -> compilar um padrão regex\n",
    "- re.search(padrao_compilado, texto) -> procura uma ocorrência do padrão no texto (re.match só procura na 1ª linha do texto)\n",
    "- re.findall(padrao_compilado, texto) -> encontra todas as ocorrencias do padrão em um texto - armazena em uma lista\n",
    "- re.finditer(padrao_compilado, texto) -> encontra todas as ocorrencias e armazena em um iterador"
   ]
  },
  {
   "cell_type": "code",
   "execution_count": 1,
   "id": "8900fc84",
   "metadata": {},
   "outputs": [],
   "source": [
    "texto = \"\"\"\n",
    "Bom dia,\n",
    "\n",
    "Seguem os orçamentos solicitados:\n",
    "\n",
    "\n",
    "Cerveja importada (330 ml) - R$12,30 - bebida\n",
    "Cerveja nacional (0,5 litros) - R$6,10 - bebida\n",
    "Garrafa de vinho (750ml) - R$39,90 - bebida\n",
    "Água (garrafa de 1,5 litros) - R$3,30 - bebida\n",
    "Alface (1 unidade) - R$3,50 - comida\n",
    "Cebolas (1kg) - R$5,10 - comida\n",
    "Batatas (1 kg) - R$5,20 - comida\n",
    "Tomates (1 kg) - R$7,90 - comida\n",
    "Laranjas (1 kg) - R$4,70 - comida\n",
    "Bananas (1kg) - R$5,50 - comida\n",
    "Maçãs (1 kg) - R$8,30 - comida\n",
    "Queijo fresco (1 kg) - R$42,90 - comida\n",
    "Uma dúzia de ovos(12) - R$9,80 - comida\n",
    "Arroz (1 kg) - R$5,70 - comida\n",
    "Um quilo de pão (1 kg) - R$7,20 - comida\n",
    "Leite (1 litro) - R$5,20 - bebida\n",
    "Azeite (1 unidade) - R$20 - tempero\n",
    "Pimenta Reino (20g) - R$5 - tempero\n",
    "\n",
    "\n",
    "Favor informar as quantidades desejadas \n",
    "para emissão da Nota Fiscal.\n",
    "\n",
    "Att.,\"\"\""
   ]
  },
  {
   "cell_type": "code",
   "execution_count": 2,
   "id": "0e056330",
   "metadata": {},
   "outputs": [],
   "source": [
    "import re"
   ]
  },
  {
   "cell_type": "markdown",
   "id": "3e3da46f",
   "metadata": {},
   "source": [
    "#### Ex: Quantos itens"
   ]
  },
  {
   "cell_type": "code",
   "execution_count": 3,
   "id": "664f4bc0",
   "metadata": {},
   "outputs": [
    {
     "name": "stdout",
     "output_type": "stream",
     "text": [
      "11\n",
      "5\n",
      "2\n"
     ]
    }
   ],
   "source": [
    "# quantas comidas\n",
    "padrao = re.compile(\"comida\")\n",
    "resultado = re.findall(padrao, texto)\n",
    "print(len(resultado))\n",
    "\n",
    "\n",
    "# quantas bebidas\n",
    "padrao = re.compile(\"bebida\")\n",
    "resultado = re.findall(padrao, texto)\n",
    "print(len(resultado))\n",
    "\n",
    "\n",
    "# quantos tempero\n",
    "padrao = re.compile(\"tempero\")\n",
    "resultado = re.findall(padrao, texto)\n",
    "print(len(resultado))\n"
   ]
  },
  {
   "cell_type": "code",
   "execution_count": 4,
   "id": "d8d340fc",
   "metadata": {},
   "outputs": [
    {
     "name": "stdout",
     "output_type": "stream",
     "text": [
      "<re.Match object; span=(262, 268), match='comida'>\n",
      "<re.Match object; span=(262, 268), match='comida'>\n",
      "<re.Match object; span=(294, 300), match='comida'>\n",
      "<re.Match object; span=(327, 333), match='comida'>\n",
      "<re.Match object; span=(360, 366), match='comida'>\n",
      "<re.Match object; span=(394, 400), match='comida'>\n",
      "<re.Match object; span=(426, 432), match='comida'>\n",
      "<re.Match object; span=(457, 463), match='comida'>\n",
      "<re.Match object; span=(497, 503), match='comida'>\n",
      "<re.Match object; span=(537, 543), match='comida'>\n",
      "<re.Match object; span=(568, 574), match='comida'>\n",
      "<re.Match object; span=(609, 615), match='comida'>\n"
     ]
    }
   ],
   "source": [
    "# usando o \"search\"\n",
    "padrao = re.compile(\"comida\")\n",
    "resultado = re.search(padrao, texto)\n",
    "print(resultado)\n",
    "\n",
    "# usando o \"finditer\"\n",
    "\n",
    "padrao = re.compile(\"comida\")\n",
    "resultado = re.finditer(padrao, texto)\n",
    "for item in resultado:\n",
    "    print(item)"
   ]
  },
  {
   "cell_type": "code",
   "execution_count": 5,
   "id": "44a6d0da",
   "metadata": {},
   "outputs": [
    {
     "name": "stdout",
     "output_type": "stream",
     "text": [
      "18\n"
     ]
    }
   ],
   "source": [
    "# quantos itens\n",
    "padrao = re.compile(\"\\$\")\n",
    "resultado = re.findall(padrao, texto)\n",
    "print(len(resultado))"
   ]
  },
  {
   "cell_type": "code",
   "execution_count": 6,
   "id": "f5b79546",
   "metadata": {},
   "outputs": [
    {
     "name": "stdout",
     "output_type": "stream",
     "text": [
      "['Nome:', 'Idade:', 'Salário:']\n",
      "['Nome', 'Idade', 'Salário']\n",
      "[': ', ' ', ' ', ': ', ' ', ': ']\n",
      "['17', '670']\n"
     ]
    }
   ],
   "source": [
    "novo_texto = \"Nome: Neylor Henrique Idade: 17 Salário: 670\"\n",
    "padrao = re.compile(r\"\\w+:\")\n",
    "resultado = re.findall(padrao, novo_texto)\n",
    "print(resultado)\n",
    "\n",
    "novo_texto = \"Nome: Neylor Henrique Idade: 17 Salário: 670\"\n",
    "padrao = re.compile(r\"(\\w+):\")\n",
    "resultado = re.findall(padrao, novo_texto)\n",
    "print(resultado)\n",
    "\n",
    "\n",
    "novo_texto = \"Nome: Neylor Henrique Idade: 17 Salário: 670\"\n",
    "padrao = re.compile(r\"\\W+\")\n",
    "resultado = re.findall(padrao, novo_texto)\n",
    "print(resultado)\n",
    "\n",
    "\n",
    "novo_texto = \"Nome: Neylor Henrique Idade: 17 Salário: 670\"\n",
    "padrao = re.compile(r\"\\d+\")\n",
    "resultado = re.findall(padrao, novo_texto)\n",
    "print(resultado)"
   ]
  },
  {
   "cell_type": "markdown",
   "id": "cc12bc6d",
   "metadata": {},
   "source": [
    "#### Ex: Extrair números"
   ]
  },
  {
   "cell_type": "code",
   "execution_count": 7,
   "id": "e96fa8ec",
   "metadata": {},
   "outputs": [
    {
     "name": "stdout",
     "output_type": "stream",
     "text": [
      "['330', '12,30', '0,5', '6,10', '750', '39,90', '1,5', '3,30', '3,50', '5,10', '5,20', '7,90', '4,70', '5,50', '8,30', '42,90', '12', '9,80', '5,70', '7,20', '5,20', '20', '20']\n"
     ]
    }
   ],
   "source": [
    "padrao = re.compile(r\"\\d+,?\\d+\")\n",
    "resultado = re.findall(padrao, texto)\n",
    "print(resultado)"
   ]
  },
  {
   "cell_type": "markdown",
   "id": "74477194",
   "metadata": {},
   "source": [
    "#### Ex: Extrair quantos ml (do 1º item)"
   ]
  },
  {
   "cell_type": "code",
   "execution_count": 8,
   "id": "3e41e61a",
   "metadata": {},
   "outputs": [
    {
     "name": "stdout",
     "output_type": "stream",
     "text": [
      "<re.Match object; span=(65, 73), match='(330 ml)'>\n",
      "<re.Match object; span=(65, 73), match='(330 ml)'>\n"
     ]
    }
   ],
   "source": [
    "padrao = re.compile(r\"\\(.+\\)\")\n",
    "resultado = re.search(padrao, texto)\n",
    "print(resultado)\n",
    "\n",
    "\n",
    "padrao = re.compile(r\"\\(\\d+\\s\\w+\\)\")\n",
    "resultado = re.search(padrao, texto)\n",
    "print(resultado)"
   ]
  },
  {
   "cell_type": "markdown",
   "id": "56f1d77b",
   "metadata": {},
   "source": [
    "#### Ex: Preço do 1º item"
   ]
  },
  {
   "cell_type": "code",
   "execution_count": 9,
   "id": "f33962c5",
   "metadata": {},
   "outputs": [
    {
     "name": "stdout",
     "output_type": "stream",
     "text": [
      "<re.Match object; span=(76, 83), match='R$12,30'>\n",
      "R$12,30\n",
      "R$12,30\n"
     ]
    }
   ],
   "source": [
    "padrao = re.compile(r\"R\\$\\d+,\\d+\")\n",
    "resultado = re.search(padrao, texto)\n",
    "print(resultado)\n",
    "\n",
    "print(texto[76:83])\n",
    "\n",
    "print(resultado.group(0))\n"
   ]
  },
  {
   "cell_type": "markdown",
   "id": "3f125f90",
   "metadata": {},
   "source": [
    "#### Ex: Todos os preços"
   ]
  },
  {
   "cell_type": "code",
   "execution_count": 10,
   "id": "0140fd16",
   "metadata": {},
   "outputs": [
    {
     "name": "stdout",
     "output_type": "stream",
     "text": [
      "['R$12,30', 'R$6,10', 'R$39,90', 'R$3,30', 'R$3,50', 'R$5,10', 'R$5,20', 'R$7,90', 'R$4,70', 'R$5,50', 'R$8,30', 'R$42,90', 'R$9,80', 'R$5,70', 'R$7,20', 'R$5,20', 'R$20', 'R$5']\n"
     ]
    }
   ],
   "source": [
    "padrao = re.compile(r\"R\\$\\d+,?\\d*\")\n",
    "resultado = re.findall(padrao, texto)\n",
    "print(resultado)\n",
    "\n"
   ]
  },
  {
   "cell_type": "markdown",
   "id": "7729f8ee",
   "metadata": {},
   "source": [
    "#### Ex: Quantidades dos itens"
   ]
  },
  {
   "cell_type": "code",
   "execution_count": 11,
   "id": "7b0489b9",
   "metadata": {},
   "outputs": [
    {
     "name": "stdout",
     "output_type": "stream",
     "text": [
      "garrafa de 1,5 litros\n",
      "['330 ml', '0,5 litros', '750ml', ' 1,5 litros', '1 unidade', '1kg', '1 kg', '1 kg', '1 kg', '1kg', '1 kg', '1 kg', '12', '1 kg', '1 kg', '1 litro', '1 unidade', '20g']\n",
      "['330 ml', '0,5 litros', '750ml', 'garrafa de 1,5 litros', '1 unidade', '1kg', '1 kg', '1 kg', '1 kg', '1kg', '1 kg', '1 kg', '12', '1 kg', '1 kg', '1 litro', '1 unidade', '20g']\n"
     ]
    }
   ],
   "source": [
    "padrao = re.compile(r\"\\((.+)\\)\")\n",
    "resultado = re.findall(padrao, texto)\n",
    "\n",
    "print(resultado[3])\n",
    "resultado[3] = resultado[3].replace(\"garrafa de\", \"\")\n",
    "print(resultado)\n",
    "\n",
    "padrao = re.compile(r\"\\((.+)\\)\")\n",
    "resultado = re.findall(padrao, texto)\n",
    "\n",
    "print(resultado)\n"
   ]
  },
  {
   "cell_type": "markdown",
   "id": "e2d8e3da",
   "metadata": {},
   "source": [
    "#### Ex: Links"
   ]
  },
  {
   "cell_type": "code",
   "execution_count": 12,
   "id": "a012ad53",
   "metadata": {},
   "outputs": [],
   "source": [
    "texto2 = \"\"\"\n",
    "Olá\n",
    "\n",
    "Segue o relatório de SEO para os seguintes sites:\n",
    "https://portalhashtag.com\n",
    "http://hashtagtreinamentos.com\n",
    "https://www.wikipedia.org/\n",
    "www.bcb.gov.br/\n",
    "\n",
    "Qualquer dúvida estamos à disposição\"\"\""
   ]
  },
  {
   "cell_type": "code",
   "execution_count": 35,
   "id": "36ae17cb",
   "metadata": {},
   "outputs": [
    {
     "name": "stdout",
     "output_type": "stream",
     "text": [
      "[('https://portalhashtag.com', 'https://', ''), ('http://hashtagtreinamentos.com', 'http://', ''), ('https://www.wikipedia.org/', 'https://', 'www.'), ('www.bcb.gov.br/', '', 'www.')]\n",
      "--------------------------------------------------\n",
      "https://portalhashtag.com\n",
      "http://hashtagtreinamentos.com\n",
      "https://www.wikipedia.org/\n",
      "www.bcb.gov.br/\n"
     ]
    }
   ],
   "source": [
    "padrao = re.compile(r\"((https?://)?(www.)?\\w+\\..+)\")\n",
    "resultado = re.findall(padrao, texto2)\n",
    "resultado2 = re.finditer(padrao, texto2)\n",
    "\n",
    "print(resultado)\n",
    "print(\"-\" * 50)\n",
    "for item in resultado2:\n",
    "    print(item.group(0))"
   ]
  },
  {
   "cell_type": "code",
   "execution_count": null,
   "id": "cab97689",
   "metadata": {},
   "outputs": [],
   "source": []
  }
 ],
 "metadata": {
  "kernelspec": {
   "display_name": "Python 3 (ipykernel)",
   "language": "python",
   "name": "python3"
  },
  "language_info": {
   "codemirror_mode": {
    "name": "ipython",
    "version": 3
   },
   "file_extension": ".py",
   "mimetype": "text/x-python",
   "name": "python",
   "nbconvert_exporter": "python",
   "pygments_lexer": "ipython3",
   "version": "3.11.4"
  }
 },
 "nbformat": 4,
 "nbformat_minor": 5
}
