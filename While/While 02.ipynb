{
 "cells": [
  {
   "cell_type": "markdown",
   "metadata": {},
   "source": [
    "# Cuidado com o while -> Loop Infinito\n",
    "\n",
    "Sempre que for usar o comando while, lembre-se de ter certeza que o programa vai terminar em algum momento\n",
    "\n",
    "### Exemplo\n",
    "\n",
    "Digamos que temos uma lista de vendedores e as quantidades vendidas e queremos identificar todos os vendedores que bateram a meta de 50 vendas."
   ]
  },
  {
   "cell_type": "code",
   "execution_count": 4,
   "metadata": {},
   "outputs": [
    {
     "name": "stdout",
     "output_type": "stream",
     "text": [
      "Maria bateu a meta. As vendas foram: 941\n",
      "José bateu a meta. As vendas foram: 852\n",
      "Antônio bateu a meta. As vendas foram: 783\n",
      "João bateu a meta. As vendas foram: 714\n",
      "Francisco bateu a meta. As vendas foram: 697\n",
      "Ana bateu a meta. As vendas foram: 686\n",
      "Luiz bateu a meta. As vendas foram: 685\n",
      "Paulo bateu a meta. As vendas foram: 670\n",
      "Carlos bateu a meta. As vendas foram: 631\n",
      "Manoel bateu a meta. As vendas foram: 453\n",
      "Pedro bateu a meta. As vendas foram: 386\n",
      "Francisca bateu a meta. As vendas foram: 371\n",
      "Marcos bateu a meta. As vendas foram: 294\n",
      "Raimundo bateu a meta. As vendas foram: 269\n",
      "Sebastião bateu a meta. As vendas foram: 259\n",
      "Antônia bateu a meta. As vendas foram: 218\n",
      "Marcelo bateu a meta. As vendas foram: 208\n",
      "Jorge bateu a meta. As vendas foram: 163\n",
      "Márcia bateu a meta. As vendas foram: 125\n",
      "Geraldo bateu a meta. As vendas foram: 102\n",
      "Adriana bateu a meta. As vendas foram: 87\n"
     ]
    }
   ],
   "source": [
    "vendas = [941, 852, 783, 714, 697, 686, 685, 670, 631, 453, 386, 371, 294, 269, 259, 218, 208, 163, 125, 102, 87, 47, 7]\n",
    "vendedores = ['Maria', 'José', 'Antônio', 'João', 'Francisco', 'Ana', 'Luiz', 'Paulo', 'Carlos', 'Manoel', 'Pedro', 'Francisca', 'Marcos', 'Raimundo', 'Sebastião', 'Antônia', 'Marcelo', 'Jorge', 'Márcia', 'Geraldo', 'Adriana', 'Sandra', 'Luis']\n",
    "meta = 50\n",
    "\n",
    "i = 0 \n",
    "while vendas[i] > meta:\n",
    "    print(f'{vendedores[i]} bateu a meta. As vendas foram: {vendas[i]}')\n",
    "    i = i + 1\n"
   ]
  }
 ],
 "metadata": {
  "kernelspec": {
   "display_name": "Python 3",
   "language": "python",
   "name": "python3"
  },
  "language_info": {
   "codemirror_mode": {
    "name": "ipython",
    "version": 3
   },
   "file_extension": ".py",
   "mimetype": "text/x-python",
   "name": "python",
   "nbconvert_exporter": "python",
   "pygments_lexer": "ipython3",
   "version": "3.11.1"
  },
  "vscode": {
   "interpreter": {
    "hash": "dc0477cf93cebccc657827a309cd32088bf39bdae479fe681e3bd1ac79598d82"
   }
  }
 },
 "nbformat": 4,
 "nbformat_minor": 4
}
