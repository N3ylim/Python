{
 "cells": [
  {
   "cell_type": "code",
   "execution_count": 31,
   "id": "a8cf6284",
   "metadata": {},
   "outputs": [
    {
     "name": "stdout",
     "output_type": "stream",
     "text": [
      "<title> Todos os Cursos Hashtag Treinamentos</title>\n"
     ]
    }
   ],
   "source": [
    "from bs4 import BeautifulSoup\n",
    "\n",
    "with open(\"Pagina Hashtag.html\", \"r\", encoding=\"utf-8\") as arquivo:\n",
    "    site = BeautifulSoup(arquivo, \"html.parser\")\n",
    "\n",
    "# print(site.prettify())\n",
    "titulo = site.find(\"title\")\n",
    "print(titulo)"
   ]
  },
  {
   "cell_type": "code",
   "execution_count": 15,
   "id": "900775de",
   "metadata": {},
   "outputs": [
    {
     "name": "stdout",
     "output_type": "stream",
     "text": [
      "<h1 id=\"conheca-todos-os-cursos-da-hashtag-treinamentos\"><span style=\"color: #ff6600;\"><span class=\"has-inline-color\" style=\"color:#112e61\">Conheça todos os Cursos da Hashtag Treinamentos</span></span></h1>\n"
     ]
    }
   ],
   "source": [
    "h1 = site.find(\"h1\")\n",
    "print(h1)"
   ]
  },
  {
   "cell_type": "code",
   "execution_count": 17,
   "id": "6fe09c3c",
   "metadata": {},
   "outputs": [
    {
     "name": "stdout",
     "output_type": "stream",
     "text": [
      "<nav class=\"navbar navbar-expand-md py-0\">\n",
      " <button aria-controls=\"navbarsExampleDefault\" aria-expanded=\"false\" aria-label=\"Toggle navigation\" class=\"navbar-toggler\" data-target=\"#navbarsExampleDefault\" data-toggle=\"collapse\" type=\"button\">\n",
      "  <span class=\"navbar-toggler-icon\">\n",
      "  </span>\n",
      " </button>\n",
      " <div class=\"collapse navbar-collapse\" id=\"navbarsExampleDefault\">\n",
      "  <div class=\"collapse navbar-collapse\" id=\"navbarSupportedContent\">\n",
      "   <ul class=\"navbar-nav ml-auto\" id=\"menu-principal\">\n",
      "    <li class=\"menu-item menu-item-type-post_type menu-item-object-page menu-item-2191 nav-item\" id=\"menu-item-2191\" itemscope=\"itemscope\" itemtype=\"https://www.schema.org/SiteNavigationElement\">\n",
      "     <a class=\"nav-link\" href=\"https://www.hashtagtreinamentos.com/curso-de-excel-online\" title=\"Curso Excel Online\">\n",
      "      Curso Excel Online\n",
      "     </a>\n",
      "    </li>\n",
      "    <li class=\"menu-item menu-item-type-post_type menu-item-object-page menu-item-6293 nav-item\" id=\"menu-item-6293\" itemscope=\"itemscope\" itemtype=\"https://www.schema.org/SiteNavigationElement\">\n",
      "     <a class=\"nav-link\" href=\"https://www.hashtagtreinamentos.com/curso-power-bi\" title=\"Curso Power BI Online\">\n",
      "      Curso Power BI Online\n",
      "     </a>\n",
      "    </li>\n",
      "    <li class=\"menu-item menu-item-type-post_type menu-item-object-page menu-item-9706 nav-item\" id=\"menu-item-9706\" itemscope=\"itemscope\" itemtype=\"https://www.schema.org/SiteNavigationElement\">\n",
      "     <a class=\"nav-link\" href=\"https://www.hashtagtreinamentos.com/curso-python\" title=\"Curso de Python Online\">\n",
      "      Curso de Python Online\n",
      "     </a>\n",
      "    </li>\n",
      "    <li class=\"menu-item menu-item-type-custom menu-item-object-custom menu-item-has-children dropdown menu-item-16313 nav-item\" id=\"menu-item-16313\" itemscope=\"itemscope\" itemtype=\"https://www.schema.org/SiteNavigationElement\">\n",
      "     <a aria-expanded=\"false\" aria-haspopup=\"true\" class=\"dropdown-toggle nav-link disabled\" href=\"https://www.hashtagtreinamentos.com/todos-os-cursos#\" id=\"menu-item-dropdown-16313\" title=\"Outros Cursos\">\n",
      "      Outros Cursos\n",
      "     </a>\n",
      "     <ul aria-labelledby=\"menu-item-dropdown-16313\" class=\"dropdown-menu\" role=\"menu\">\n",
      "      <li class=\"menu-item menu-item-type-post_type menu-item-object-page menu-item-17042 nav-item\" id=\"menu-item-17042\" itemscope=\"itemscope\" itemtype=\"https://www.schema.org/SiteNavigationElement\">\n",
      "       <a class=\"dropdown-item\" href=\"https://www.hashtagtreinamentos.com/curso-sql\" title=\"Curso de SQL\">\n",
      "        Curso de SQL\n",
      "       </a>\n",
      "      </li>\n",
      "      <li class=\"menu-item menu-item-type-post_type menu-item-object-page menu-item-6686 nav-item\" id=\"menu-item-6686\" itemscope=\"itemscope\" itemtype=\"https://www.schema.org/SiteNavigationElement\">\n",
      "       <a class=\"dropdown-item\" href=\"https://www.hashtagtreinamentos.com/curso-vba-excel\" title=\"Curso de VBA Excel\">\n",
      "        Curso de VBA Excel\n",
      "       </a>\n",
      "      </li>\n",
      "      <li class=\"menu-item menu-item-type-post_type menu-item-object-page menu-item-19806 nav-item\" id=\"menu-item-19806\" itemscope=\"itemscope\" itemtype=\"https://www.schema.org/SiteNavigationElement\">\n",
      "       <a class=\"dropdown-item\" href=\"https://www.hashtagtreinamentos.com/curso-powerpoint\" title=\"Curso de PowerPoint Online\">\n",
      "        Curso de PowerPoint Online\n",
      "       </a>\n",
      "      </li>\n",
      "      <li class=\"menu-item menu-item-type-custom menu-item-object-custom menu-item-6302 nav-item\" id=\"menu-item-6302\" itemscope=\"itemscope\" itemtype=\"https://www.schema.org/SiteNavigationElement\">\n",
      "       <a class=\"dropdown-item\" href=\"https://www.hashtagtreinamentos.com/todos-os-cursos-hashtag-treinamentos\" title=\"Todos os Cursos\">\n",
      "        Todos os Cursos\n",
      "       </a>\n",
      "      </li>\n",
      "     </ul>\n",
      "    </li>\n",
      "    <li class=\"menu-item menu-item-type-post_type menu-item-object-page menu-item-10581 nav-item\" id=\"menu-item-10581\" itemscope=\"itemscope\" itemtype=\"https://www.schema.org/SiteNavigationElement\">\n",
      "     <a class=\"nav-link\" href=\"https://www.hashtagtreinamentos.com/treinamentos-corporativos\" title=\"Treinamentos para Empresas\">\n",
      "      Treinamentos para Empresas\n",
      "     </a>\n",
      "    </li>\n",
      "    <li class=\"menu-item menu-item-type-post_type menu-item-object-page menu-item-58 nav-item\" id=\"menu-item-58\" itemscope=\"itemscope\" itemtype=\"https://www.schema.org/SiteNavigationElement\">\n",
      "     <a class=\"nav-link\" href=\"https://www.hashtagtreinamentos.com/blog\" title=\"Blog\">\n",
      "      Blog\n",
      "     </a>\n",
      "    </li>\n",
      "    <li class=\"menu-item menu-item-type-post_type menu-item-object-page menu-item-221 nav-item\" id=\"menu-item-221\" itemscope=\"itemscope\" itemtype=\"https://www.schema.org/SiteNavigationElement\">\n",
      "     <a class=\"nav-link\" href=\"https://www.hashtagtreinamentos.com/contato\" title=\"Contato\">\n",
      "      Contato\n",
      "     </a>\n",
      "    </li>\n",
      "   </ul>\n",
      "  </div>\n",
      " </div>\n",
      "</nav>\n"
     ]
    }
   ],
   "source": [
    "barra_navegacao = site.find(\"nav\")\n",
    "print(barra_navegacao.prettify())"
   ]
  },
  {
   "cell_type": "code",
   "execution_count": 35,
   "id": "a7c44eb0",
   "metadata": {},
   "outputs": [
    {
     "name": "stdout",
     "output_type": "stream",
     "text": [
      "[<a class=\"nav-link\" href=\"https://www.hashtagtreinamentos.com/curso-de-excel-online\" title=\"Curso Excel Online\">Curso Excel Online</a>, <a class=\"nav-link\" href=\"https://www.hashtagtreinamentos.com/curso-power-bi\" title=\"Curso Power BI Online\">Curso Power BI Online</a>, <a class=\"nav-link\" href=\"https://www.hashtagtreinamentos.com/curso-python\" title=\"Curso de Python Online\">Curso de Python Online</a>, <a aria-expanded=\"false\" aria-haspopup=\"true\" class=\"dropdown-toggle nav-link disabled\" href=\"https://www.hashtagtreinamentos.com/todos-os-cursos#\" id=\"menu-item-dropdown-16313\" title=\"Outros Cursos\">Outros Cursos</a>, <a class=\"dropdown-item\" href=\"https://www.hashtagtreinamentos.com/curso-sql\" title=\"Curso de SQL\">Curso de SQL</a>, <a class=\"dropdown-item\" href=\"https://www.hashtagtreinamentos.com/curso-vba-excel\" title=\"Curso de VBA Excel\">Curso de VBA Excel</a>, <a class=\"dropdown-item\" href=\"https://www.hashtagtreinamentos.com/curso-powerpoint\" title=\"Curso de PowerPoint Online\">Curso de PowerPoint Online</a>, <a class=\"dropdown-item\" href=\"https://www.hashtagtreinamentos.com/todos-os-cursos-hashtag-treinamentos\" title=\"Todos os Cursos\">Todos os Cursos</a>, <a class=\"nav-link\" href=\"https://www.hashtagtreinamentos.com/treinamentos-corporativos\" title=\"Treinamentos para Empresas\">Treinamentos para Empresas</a>, <a class=\"nav-link\" href=\"https://www.hashtagtreinamentos.com/blog\" title=\"Blog\">Blog</a>, <a class=\"nav-link\" href=\"https://www.hashtagtreinamentos.com/contato\" title=\"Contato\">Contato</a>]\n",
      "11\n"
     ]
    }
   ],
   "source": [
    "links = barra_navegacao.find_all(\"a\")\n",
    "print(links)\n",
    "print(len(links))"
   ]
  },
  {
   "cell_type": "code",
   "execution_count": 29,
   "id": "bebdfadf",
   "metadata": {},
   "outputs": [
    {
     "name": "stdout",
     "output_type": "stream",
     "text": [
      "https://www.hashtagtreinamentos.com/curso-de-excel-online\n",
      "https://www.hashtagtreinamentos.com/curso-power-bi\n",
      "https://www.hashtagtreinamentos.com/curso-python\n",
      "https://www.hashtagtreinamentos.com/todos-os-cursos#\n",
      "https://www.hashtagtreinamentos.com/curso-sql\n",
      "https://www.hashtagtreinamentos.com/curso-vba-excel\n",
      "https://www.hashtagtreinamentos.com/curso-powerpoint\n",
      "https://www.hashtagtreinamentos.com/todos-os-cursos-hashtag-treinamentos\n",
      "https://www.hashtagtreinamentos.com/treinamentos-corporativos\n",
      "https://www.hashtagtreinamentos.com/blog\n",
      "https://www.hashtagtreinamentos.com/contato\n"
     ]
    }
   ],
   "source": [
    "# print(links[0])\n",
    "# print(links[0].attrs)\n",
    "\n",
    "for link in links:\n",
    "    print(link[\"href\"])"
   ]
  },
  {
   "cell_type": "markdown",
   "id": "b0e69108",
   "metadata": {},
   "source": [
    "### Encontrando elementos com várias regras"
   ]
  },
  {
   "cell_type": "code",
   "execution_count": 36,
   "id": "3f27a41f",
   "metadata": {},
   "outputs": [
    {
     "name": "stdout",
     "output_type": "stream",
     "text": [
      "[<button aria-controls=\"navbarsExampleDefault\" aria-expanded=\"false\" aria-label=\"Toggle navigation\" class=\"navbar-toggler\" data-target=\"#navbarsExampleDefault\" data-toggle=\"collapse\" type=\"button\"> <span class=\"navbar-toggler-icon\"></span> </button>, <a class=\"nav-link\" href=\"https://www.hashtagtreinamentos.com/curso-de-excel-online\" title=\"Curso Excel Online\">Curso Excel Online</a>, <a class=\"nav-link\" href=\"https://www.hashtagtreinamentos.com/curso-power-bi\" title=\"Curso Power BI Online\">Curso Power BI Online</a>, <a class=\"nav-link\" href=\"https://www.hashtagtreinamentos.com/curso-python\" title=\"Curso de Python Online\">Curso de Python Online</a>, <a aria-expanded=\"false\" aria-haspopup=\"true\" class=\"dropdown-toggle nav-link disabled\" href=\"https://www.hashtagtreinamentos.com/todos-os-cursos#\" id=\"menu-item-dropdown-16313\" title=\"Outros Cursos\">Outros Cursos</a>, <a class=\"dropdown-item\" href=\"https://www.hashtagtreinamentos.com/curso-sql\" title=\"Curso de SQL\">Curso de SQL</a>, <a class=\"dropdown-item\" href=\"https://www.hashtagtreinamentos.com/curso-vba-excel\" title=\"Curso de VBA Excel\">Curso de VBA Excel</a>, <a class=\"dropdown-item\" href=\"https://www.hashtagtreinamentos.com/curso-powerpoint\" title=\"Curso de PowerPoint Online\">Curso de PowerPoint Online</a>, <a class=\"dropdown-item\" href=\"https://www.hashtagtreinamentos.com/todos-os-cursos-hashtag-treinamentos\" title=\"Todos os Cursos\">Todos os Cursos</a>, <a class=\"nav-link\" href=\"https://www.hashtagtreinamentos.com/treinamentos-corporativos\" title=\"Treinamentos para Empresas\">Treinamentos para Empresas</a>, <a class=\"nav-link\" href=\"https://www.hashtagtreinamentos.com/blog\" title=\"Blog\">Blog</a>, <a class=\"nav-link\" href=\"https://www.hashtagtreinamentos.com/contato\" title=\"Contato\">Contato</a>]\n",
      "12\n"
     ]
    }
   ],
   "source": [
    "elementos_navegacao = barra_navegacao.find_all([\"a\", \"button\"])\n",
    "print(elementos_navegacao)\n",
    "print(len(elementos_navegacao))"
   ]
  },
  {
   "cell_type": "markdown",
   "id": "7ec9ae2a",
   "metadata": {},
   "source": [
    "### Outras regras de find\n",
    "\n",
    "- por classe\n",
    "- por id\n",
    "- por atributos\n",
    "- por texto\n",
    "- por pedaços de texto"
   ]
  },
  {
   "cell_type": "code",
   "execution_count": 38,
   "id": "339b782d",
   "metadata": {},
   "outputs": [
    {
     "name": "stdout",
     "output_type": "stream",
     "text": [
      "<h2 class=\"h1 tit centro\">Todos os Cursos da Hashtag Treinamentos</h2>\n"
     ]
    }
   ],
   "source": [
    "subtitulo = site.find(class_=\"tit\")\n",
    "print(subtitulo)"
   ]
  },
  {
   "cell_type": "code",
   "execution_count": 39,
   "id": "745f774d",
   "metadata": {},
   "outputs": [
    {
     "name": "stdout",
     "output_type": "stream",
     "text": [
      "<header class=\"\" id=\"header\" role=\"banner\"><div class=\"container-fluid\"><div class=\"row\"><div class=\"logo col-md-2 col-6 align-self-center\"> <a class=\"custom-logo-link\" href=\"https://www.hashtagtreinamentos.com/\" rel=\"home\"><img alt=\"Hashtag Treinamentos\" class=\"custom-logo lazyloaded\" data-ll-status=\"loaded\" height=\"73\" sizes=\"(max-width: 153px) 100vw, 153px\" src=\"./Pagina Hashtag_files/logo_nova.png.webp\" srcset=\"https://www.hashtagtreinamentos.com/wp-content/uploads/2019/04/logo_nova.png.webp 153w,https://www.hashtagtreinamentos.com/wp-content/uploads/2019/04/logo_nova-150x73.png.webp 150w\" width=\"153\"/><noscript><img alt=\"Hashtag Treinamentos\" class=\"custom-logo\" height=\"73\" sizes=\"(max-width: 153px) 100vw, 153px\" src=\"https://www.hashtagtreinamentos.com/wp-content/uploads/2019/04/logo_nova.png.webp\" srcset=\"https://www.hashtagtreinamentos.com/wp-content/uploads/2019/04/logo_nova.png.webp 153w,https://www.hashtagtreinamentos.com/wp-content/uploads/2019/04/logo_nova-150x73.png.webp 150w\" width=\"153\"/></noscript></a></div><div class=\"col-md-10 align-self-center d-md-block d-none text-right\"><div class=\"menu_geral\"><div class=\"navbar navbar-default d-table ml-auto mt-0 py-0\" id=\"main-navigation\"><nav class=\"navbar navbar-expand-md py-0\"> <button aria-controls=\"navbarsExampleDefault\" aria-expanded=\"false\" aria-label=\"Toggle navigation\" class=\"navbar-toggler\" data-target=\"#navbarsExampleDefault\" data-toggle=\"collapse\" type=\"button\"> <span class=\"navbar-toggler-icon\"></span> </button><div class=\"collapse navbar-collapse\" id=\"navbarsExampleDefault\"><div class=\"collapse navbar-collapse\" id=\"navbarSupportedContent\"><ul class=\"navbar-nav ml-auto\" id=\"menu-principal\"><li class=\"menu-item menu-item-type-post_type menu-item-object-page menu-item-2191 nav-item\" id=\"menu-item-2191\" itemscope=\"itemscope\" itemtype=\"https://www.schema.org/SiteNavigationElement\"><a class=\"nav-link\" href=\"https://www.hashtagtreinamentos.com/curso-de-excel-online\" title=\"Curso Excel Online\">Curso Excel Online</a></li><li class=\"menu-item menu-item-type-post_type menu-item-object-page menu-item-6293 nav-item\" id=\"menu-item-6293\" itemscope=\"itemscope\" itemtype=\"https://www.schema.org/SiteNavigationElement\"><a class=\"nav-link\" href=\"https://www.hashtagtreinamentos.com/curso-power-bi\" title=\"Curso Power BI Online\">Curso Power BI Online</a></li><li class=\"menu-item menu-item-type-post_type menu-item-object-page menu-item-9706 nav-item\" id=\"menu-item-9706\" itemscope=\"itemscope\" itemtype=\"https://www.schema.org/SiteNavigationElement\"><a class=\"nav-link\" href=\"https://www.hashtagtreinamentos.com/curso-python\" title=\"Curso de Python Online\">Curso de Python Online</a></li><li class=\"menu-item menu-item-type-custom menu-item-object-custom menu-item-has-children dropdown menu-item-16313 nav-item\" id=\"menu-item-16313\" itemscope=\"itemscope\" itemtype=\"https://www.schema.org/SiteNavigationElement\"><a aria-expanded=\"false\" aria-haspopup=\"true\" class=\"dropdown-toggle nav-link disabled\" href=\"https://www.hashtagtreinamentos.com/todos-os-cursos#\" id=\"menu-item-dropdown-16313\" title=\"Outros Cursos\">Outros Cursos</a><ul aria-labelledby=\"menu-item-dropdown-16313\" class=\"dropdown-menu\" role=\"menu\"><li class=\"menu-item menu-item-type-post_type menu-item-object-page menu-item-17042 nav-item\" id=\"menu-item-17042\" itemscope=\"itemscope\" itemtype=\"https://www.schema.org/SiteNavigationElement\"><a class=\"dropdown-item\" href=\"https://www.hashtagtreinamentos.com/curso-sql\" title=\"Curso de SQL\">Curso de SQL</a></li><li class=\"menu-item menu-item-type-post_type menu-item-object-page menu-item-6686 nav-item\" id=\"menu-item-6686\" itemscope=\"itemscope\" itemtype=\"https://www.schema.org/SiteNavigationElement\"><a class=\"dropdown-item\" href=\"https://www.hashtagtreinamentos.com/curso-vba-excel\" title=\"Curso de VBA Excel\">Curso de VBA Excel</a></li><li class=\"menu-item menu-item-type-post_type menu-item-object-page menu-item-19806 nav-item\" id=\"menu-item-19806\" itemscope=\"itemscope\" itemtype=\"https://www.schema.org/SiteNavigationElement\"><a class=\"dropdown-item\" href=\"https://www.hashtagtreinamentos.com/curso-powerpoint\" title=\"Curso de PowerPoint Online\">Curso de PowerPoint Online</a></li><li class=\"menu-item menu-item-type-custom menu-item-object-custom menu-item-6302 nav-item\" id=\"menu-item-6302\" itemscope=\"itemscope\" itemtype=\"https://www.schema.org/SiteNavigationElement\"><a class=\"dropdown-item\" href=\"https://www.hashtagtreinamentos.com/todos-os-cursos-hashtag-treinamentos\" title=\"Todos os Cursos\">Todos os Cursos</a></li></ul></li><li class=\"menu-item menu-item-type-post_type menu-item-object-page menu-item-10581 nav-item\" id=\"menu-item-10581\" itemscope=\"itemscope\" itemtype=\"https://www.schema.org/SiteNavigationElement\"><a class=\"nav-link\" href=\"https://www.hashtagtreinamentos.com/treinamentos-corporativos\" title=\"Treinamentos para Empresas\">Treinamentos para Empresas</a></li><li class=\"menu-item menu-item-type-post_type menu-item-object-page menu-item-58 nav-item\" id=\"menu-item-58\" itemscope=\"itemscope\" itemtype=\"https://www.schema.org/SiteNavigationElement\"><a class=\"nav-link\" href=\"https://www.hashtagtreinamentos.com/blog\" title=\"Blog\">Blog</a></li><li class=\"menu-item menu-item-type-post_type menu-item-object-page menu-item-221 nav-item\" id=\"menu-item-221\" itemscope=\"itemscope\" itemtype=\"https://www.schema.org/SiteNavigationElement\"><a class=\"nav-link\" href=\"https://www.hashtagtreinamentos.com/contato\" title=\"Contato\">Contato</a></li></ul></div></div></nav></div></div><div class=\"social\"> <a class=\"mr-3\" href=\"https://www.facebook.com/hashtagtreinamentos/\" target=\"_blank\"><i class=\"fab fa-facebook-f\"></i></a> <a class=\"mr-3\" href=\"https://www.youtube.com/channel/UCw0leRmeaX7R_9BDd3TvCzg\" target=\"_blank\"><i class=\"fab fa-youtube\"></i></a> <a href=\"https://www.instagram.com/hashtagtreinamentos/\" target=\"_blank\"><i class=\"fab fa-instagram\"></i></a></div></div><div class=\"col-6 d-md-none\"><div class=\"fullnavBtn\" id=\"toggle\"> <span class=\"top\"></span> <span class=\"middle\"></span> <span class=\"bottom\"></span></div><div id=\"fullnav\"><nav class=\"navbar navbar-dark pr-lg-0\"><div class=\"collapsed navbar-collapse\" id=\"navbarSupportedContent\"><ul class=\"navbar-nav mx-auto\" id=\"menu-principal-1\"><li class=\"menu-item menu-item-type-post_type menu-item-object-page menu-item-2191 nav-item\" itemscope=\"itemscope\" itemtype=\"https://www.schema.org/SiteNavigationElement\"><a class=\"nav-link\" href=\"https://www.hashtagtreinamentos.com/curso-de-excel-online\" title=\"Curso Excel Online\">Curso Excel Online</a></li><li class=\"menu-item menu-item-type-post_type menu-item-object-page menu-item-6293 nav-item\" itemscope=\"itemscope\" itemtype=\"https://www.schema.org/SiteNavigationElement\"><a class=\"nav-link\" href=\"https://www.hashtagtreinamentos.com/curso-power-bi\" title=\"Curso Power BI Online\">Curso Power BI Online</a></li><li class=\"menu-item menu-item-type-post_type menu-item-object-page menu-item-9706 nav-item\" itemscope=\"itemscope\" itemtype=\"https://www.schema.org/SiteNavigationElement\"><a class=\"nav-link\" href=\"https://www.hashtagtreinamentos.com/curso-python\" title=\"Curso de Python Online\">Curso de Python Online</a></li><li class=\"menu-item menu-item-type-custom menu-item-object-custom menu-item-has-children dropdown menu-item-16313 nav-item\" itemscope=\"itemscope\" itemtype=\"https://www.schema.org/SiteNavigationElement\"><a aria-expanded=\"false\" aria-haspopup=\"true\" class=\"dropdown-toggle nav-link disabled\" href=\"https://www.hashtagtreinamentos.com/todos-os-cursos#\" id=\"menu-item-dropdown-16313\" title=\"Outros Cursos\">Outros Cursos</a><ul aria-labelledby=\"menu-item-dropdown-16313\" class=\"dropdown-menu\" role=\"menu\"><li class=\"menu-item menu-item-type-post_type menu-item-object-page menu-item-17042 nav-item\" itemscope=\"itemscope\" itemtype=\"https://www.schema.org/SiteNavigationElement\"><a class=\"dropdown-item\" href=\"https://www.hashtagtreinamentos.com/curso-sql\" title=\"Curso de SQL\">Curso de SQL</a></li><li class=\"menu-item menu-item-type-post_type menu-item-object-page menu-item-6686 nav-item\" itemscope=\"itemscope\" itemtype=\"https://www.schema.org/SiteNavigationElement\"><a class=\"dropdown-item\" href=\"https://www.hashtagtreinamentos.com/curso-vba-excel\" title=\"Curso de VBA Excel\">Curso de VBA Excel</a></li><li class=\"menu-item menu-item-type-post_type menu-item-object-page menu-item-19806 nav-item\" itemscope=\"itemscope\" itemtype=\"https://www.schema.org/SiteNavigationElement\"><a class=\"dropdown-item\" href=\"https://www.hashtagtreinamentos.com/curso-powerpoint\" title=\"Curso de PowerPoint Online\">Curso de PowerPoint Online</a></li><li class=\"menu-item menu-item-type-custom menu-item-object-custom menu-item-6302 nav-item\" itemscope=\"itemscope\" itemtype=\"https://www.schema.org/SiteNavigationElement\"><a class=\"dropdown-item\" href=\"https://www.hashtagtreinamentos.com/todos-os-cursos-hashtag-treinamentos\" title=\"Todos os Cursos\">Todos os Cursos</a></li></ul></li><li class=\"menu-item menu-item-type-post_type menu-item-object-page menu-item-10581 nav-item\" itemscope=\"itemscope\" itemtype=\"https://www.schema.org/SiteNavigationElement\"><a class=\"nav-link\" href=\"https://www.hashtagtreinamentos.com/treinamentos-corporativos\" title=\"Treinamentos para Empresas\">Treinamentos para Empresas</a></li><li class=\"menu-item menu-item-type-post_type menu-item-object-page menu-item-58 nav-item\" itemscope=\"itemscope\" itemtype=\"https://www.schema.org/SiteNavigationElement\"><a class=\"nav-link\" href=\"https://www.hashtagtreinamentos.com/blog\" title=\"Blog\">Blog</a></li><li class=\"menu-item menu-item-type-post_type menu-item-object-page menu-item-221 nav-item\" itemscope=\"itemscope\" itemtype=\"https://www.schema.org/SiteNavigationElement\"><a class=\"nav-link\" href=\"https://www.hashtagtreinamentos.com/contato\" title=\"Contato\">Contato</a></li></ul></div></nav><div class=\"social\"> <a class=\"mr-3\" href=\"https://www.facebook.com/hashtagtreinamentos/\" target=\"_blank\"><i class=\"fab fa-facebook-f\"></i></a> <a class=\"mr-3\" href=\"https://www.youtube.com/channel/UCw0leRmeaX7R_9BDd3TvCzg\" target=\"_blank\"><i class=\"fab fa-youtube\"></i></a> <a href=\"https://www.instagram.com/hashtagtreinamentos/\" target=\"_blank\"><i class=\"fab fa-instagram\"></i></a></div></div></div></div></div></header>\n"
     ]
    }
   ],
   "source": [
    "cabecalho = site.find(id=\"header\")\n",
    "print(cabecalho)"
   ]
  },
  {
   "cell_type": "code",
   "execution_count": 40,
   "id": "3370ce01",
   "metadata": {},
   "outputs": [
    {
     "name": "stdout",
     "output_type": "stream",
     "text": [
      "<header class=\"\" id=\"header\" role=\"banner\"><div class=\"container-fluid\"><div class=\"row\"><div class=\"logo col-md-2 col-6 align-self-center\"> <a class=\"custom-logo-link\" href=\"https://www.hashtagtreinamentos.com/\" rel=\"home\"><img alt=\"Hashtag Treinamentos\" class=\"custom-logo lazyloaded\" data-ll-status=\"loaded\" height=\"73\" sizes=\"(max-width: 153px) 100vw, 153px\" src=\"./Pagina Hashtag_files/logo_nova.png.webp\" srcset=\"https://www.hashtagtreinamentos.com/wp-content/uploads/2019/04/logo_nova.png.webp 153w,https://www.hashtagtreinamentos.com/wp-content/uploads/2019/04/logo_nova-150x73.png.webp 150w\" width=\"153\"/><noscript><img alt=\"Hashtag Treinamentos\" class=\"custom-logo\" height=\"73\" sizes=\"(max-width: 153px) 100vw, 153px\" src=\"https://www.hashtagtreinamentos.com/wp-content/uploads/2019/04/logo_nova.png.webp\" srcset=\"https://www.hashtagtreinamentos.com/wp-content/uploads/2019/04/logo_nova.png.webp 153w,https://www.hashtagtreinamentos.com/wp-content/uploads/2019/04/logo_nova-150x73.png.webp 150w\" width=\"153\"/></noscript></a></div><div class=\"col-md-10 align-self-center d-md-block d-none text-right\"><div class=\"menu_geral\"><div class=\"navbar navbar-default d-table ml-auto mt-0 py-0\" id=\"main-navigation\"><nav class=\"navbar navbar-expand-md py-0\"> <button aria-controls=\"navbarsExampleDefault\" aria-expanded=\"false\" aria-label=\"Toggle navigation\" class=\"navbar-toggler\" data-target=\"#navbarsExampleDefault\" data-toggle=\"collapse\" type=\"button\"> <span class=\"navbar-toggler-icon\"></span> </button><div class=\"collapse navbar-collapse\" id=\"navbarsExampleDefault\"><div class=\"collapse navbar-collapse\" id=\"navbarSupportedContent\"><ul class=\"navbar-nav ml-auto\" id=\"menu-principal\"><li class=\"menu-item menu-item-type-post_type menu-item-object-page menu-item-2191 nav-item\" id=\"menu-item-2191\" itemscope=\"itemscope\" itemtype=\"https://www.schema.org/SiteNavigationElement\"><a class=\"nav-link\" href=\"https://www.hashtagtreinamentos.com/curso-de-excel-online\" title=\"Curso Excel Online\">Curso Excel Online</a></li><li class=\"menu-item menu-item-type-post_type menu-item-object-page menu-item-6293 nav-item\" id=\"menu-item-6293\" itemscope=\"itemscope\" itemtype=\"https://www.schema.org/SiteNavigationElement\"><a class=\"nav-link\" href=\"https://www.hashtagtreinamentos.com/curso-power-bi\" title=\"Curso Power BI Online\">Curso Power BI Online</a></li><li class=\"menu-item menu-item-type-post_type menu-item-object-page menu-item-9706 nav-item\" id=\"menu-item-9706\" itemscope=\"itemscope\" itemtype=\"https://www.schema.org/SiteNavigationElement\"><a class=\"nav-link\" href=\"https://www.hashtagtreinamentos.com/curso-python\" title=\"Curso de Python Online\">Curso de Python Online</a></li><li class=\"menu-item menu-item-type-custom menu-item-object-custom menu-item-has-children dropdown menu-item-16313 nav-item\" id=\"menu-item-16313\" itemscope=\"itemscope\" itemtype=\"https://www.schema.org/SiteNavigationElement\"><a aria-expanded=\"false\" aria-haspopup=\"true\" class=\"dropdown-toggle nav-link disabled\" href=\"https://www.hashtagtreinamentos.com/todos-os-cursos#\" id=\"menu-item-dropdown-16313\" title=\"Outros Cursos\">Outros Cursos</a><ul aria-labelledby=\"menu-item-dropdown-16313\" class=\"dropdown-menu\" role=\"menu\"><li class=\"menu-item menu-item-type-post_type menu-item-object-page menu-item-17042 nav-item\" id=\"menu-item-17042\" itemscope=\"itemscope\" itemtype=\"https://www.schema.org/SiteNavigationElement\"><a class=\"dropdown-item\" href=\"https://www.hashtagtreinamentos.com/curso-sql\" title=\"Curso de SQL\">Curso de SQL</a></li><li class=\"menu-item menu-item-type-post_type menu-item-object-page menu-item-6686 nav-item\" id=\"menu-item-6686\" itemscope=\"itemscope\" itemtype=\"https://www.schema.org/SiteNavigationElement\"><a class=\"dropdown-item\" href=\"https://www.hashtagtreinamentos.com/curso-vba-excel\" title=\"Curso de VBA Excel\">Curso de VBA Excel</a></li><li class=\"menu-item menu-item-type-post_type menu-item-object-page menu-item-19806 nav-item\" id=\"menu-item-19806\" itemscope=\"itemscope\" itemtype=\"https://www.schema.org/SiteNavigationElement\"><a class=\"dropdown-item\" href=\"https://www.hashtagtreinamentos.com/curso-powerpoint\" title=\"Curso de PowerPoint Online\">Curso de PowerPoint Online</a></li><li class=\"menu-item menu-item-type-custom menu-item-object-custom menu-item-6302 nav-item\" id=\"menu-item-6302\" itemscope=\"itemscope\" itemtype=\"https://www.schema.org/SiteNavigationElement\"><a class=\"dropdown-item\" href=\"https://www.hashtagtreinamentos.com/todos-os-cursos-hashtag-treinamentos\" title=\"Todos os Cursos\">Todos os Cursos</a></li></ul></li><li class=\"menu-item menu-item-type-post_type menu-item-object-page menu-item-10581 nav-item\" id=\"menu-item-10581\" itemscope=\"itemscope\" itemtype=\"https://www.schema.org/SiteNavigationElement\"><a class=\"nav-link\" href=\"https://www.hashtagtreinamentos.com/treinamentos-corporativos\" title=\"Treinamentos para Empresas\">Treinamentos para Empresas</a></li><li class=\"menu-item menu-item-type-post_type menu-item-object-page menu-item-58 nav-item\" id=\"menu-item-58\" itemscope=\"itemscope\" itemtype=\"https://www.schema.org/SiteNavigationElement\"><a class=\"nav-link\" href=\"https://www.hashtagtreinamentos.com/blog\" title=\"Blog\">Blog</a></li><li class=\"menu-item menu-item-type-post_type menu-item-object-page menu-item-221 nav-item\" id=\"menu-item-221\" itemscope=\"itemscope\" itemtype=\"https://www.schema.org/SiteNavigationElement\"><a class=\"nav-link\" href=\"https://www.hashtagtreinamentos.com/contato\" title=\"Contato\">Contato</a></li></ul></div></div></nav></div></div><div class=\"social\"> <a class=\"mr-3\" href=\"https://www.facebook.com/hashtagtreinamentos/\" target=\"_blank\"><i class=\"fab fa-facebook-f\"></i></a> <a class=\"mr-3\" href=\"https://www.youtube.com/channel/UCw0leRmeaX7R_9BDd3TvCzg\" target=\"_blank\"><i class=\"fab fa-youtube\"></i></a> <a href=\"https://www.instagram.com/hashtagtreinamentos/\" target=\"_blank\"><i class=\"fab fa-instagram\"></i></a></div></div><div class=\"col-6 d-md-none\"><div class=\"fullnavBtn\" id=\"toggle\"> <span class=\"top\"></span> <span class=\"middle\"></span> <span class=\"bottom\"></span></div><div id=\"fullnav\"><nav class=\"navbar navbar-dark pr-lg-0\"><div class=\"collapsed navbar-collapse\" id=\"navbarSupportedContent\"><ul class=\"navbar-nav mx-auto\" id=\"menu-principal-1\"><li class=\"menu-item menu-item-type-post_type menu-item-object-page menu-item-2191 nav-item\" itemscope=\"itemscope\" itemtype=\"https://www.schema.org/SiteNavigationElement\"><a class=\"nav-link\" href=\"https://www.hashtagtreinamentos.com/curso-de-excel-online\" title=\"Curso Excel Online\">Curso Excel Online</a></li><li class=\"menu-item menu-item-type-post_type menu-item-object-page menu-item-6293 nav-item\" itemscope=\"itemscope\" itemtype=\"https://www.schema.org/SiteNavigationElement\"><a class=\"nav-link\" href=\"https://www.hashtagtreinamentos.com/curso-power-bi\" title=\"Curso Power BI Online\">Curso Power BI Online</a></li><li class=\"menu-item menu-item-type-post_type menu-item-object-page menu-item-9706 nav-item\" itemscope=\"itemscope\" itemtype=\"https://www.schema.org/SiteNavigationElement\"><a class=\"nav-link\" href=\"https://www.hashtagtreinamentos.com/curso-python\" title=\"Curso de Python Online\">Curso de Python Online</a></li><li class=\"menu-item menu-item-type-custom menu-item-object-custom menu-item-has-children dropdown menu-item-16313 nav-item\" itemscope=\"itemscope\" itemtype=\"https://www.schema.org/SiteNavigationElement\"><a aria-expanded=\"false\" aria-haspopup=\"true\" class=\"dropdown-toggle nav-link disabled\" href=\"https://www.hashtagtreinamentos.com/todos-os-cursos#\" id=\"menu-item-dropdown-16313\" title=\"Outros Cursos\">Outros Cursos</a><ul aria-labelledby=\"menu-item-dropdown-16313\" class=\"dropdown-menu\" role=\"menu\"><li class=\"menu-item menu-item-type-post_type menu-item-object-page menu-item-17042 nav-item\" itemscope=\"itemscope\" itemtype=\"https://www.schema.org/SiteNavigationElement\"><a class=\"dropdown-item\" href=\"https://www.hashtagtreinamentos.com/curso-sql\" title=\"Curso de SQL\">Curso de SQL</a></li><li class=\"menu-item menu-item-type-post_type menu-item-object-page menu-item-6686 nav-item\" itemscope=\"itemscope\" itemtype=\"https://www.schema.org/SiteNavigationElement\"><a class=\"dropdown-item\" href=\"https://www.hashtagtreinamentos.com/curso-vba-excel\" title=\"Curso de VBA Excel\">Curso de VBA Excel</a></li><li class=\"menu-item menu-item-type-post_type menu-item-object-page menu-item-19806 nav-item\" itemscope=\"itemscope\" itemtype=\"https://www.schema.org/SiteNavigationElement\"><a class=\"dropdown-item\" href=\"https://www.hashtagtreinamentos.com/curso-powerpoint\" title=\"Curso de PowerPoint Online\">Curso de PowerPoint Online</a></li><li class=\"menu-item menu-item-type-custom menu-item-object-custom menu-item-6302 nav-item\" itemscope=\"itemscope\" itemtype=\"https://www.schema.org/SiteNavigationElement\"><a class=\"dropdown-item\" href=\"https://www.hashtagtreinamentos.com/todos-os-cursos-hashtag-treinamentos\" title=\"Todos os Cursos\">Todos os Cursos</a></li></ul></li><li class=\"menu-item menu-item-type-post_type menu-item-object-page menu-item-10581 nav-item\" itemscope=\"itemscope\" itemtype=\"https://www.schema.org/SiteNavigationElement\"><a class=\"nav-link\" href=\"https://www.hashtagtreinamentos.com/treinamentos-corporativos\" title=\"Treinamentos para Empresas\">Treinamentos para Empresas</a></li><li class=\"menu-item menu-item-type-post_type menu-item-object-page menu-item-58 nav-item\" itemscope=\"itemscope\" itemtype=\"https://www.schema.org/SiteNavigationElement\"><a class=\"nav-link\" href=\"https://www.hashtagtreinamentos.com/blog\" title=\"Blog\">Blog</a></li><li class=\"menu-item menu-item-type-post_type menu-item-object-page menu-item-221 nav-item\" itemscope=\"itemscope\" itemtype=\"https://www.schema.org/SiteNavigationElement\"><a class=\"nav-link\" href=\"https://www.hashtagtreinamentos.com/contato\" title=\"Contato\">Contato</a></li></ul></div></nav><div class=\"social\"> <a class=\"mr-3\" href=\"https://www.facebook.com/hashtagtreinamentos/\" target=\"_blank\"><i class=\"fab fa-facebook-f\"></i></a> <a class=\"mr-3\" href=\"https://www.youtube.com/channel/UCw0leRmeaX7R_9BDd3TvCzg\" target=\"_blank\"><i class=\"fab fa-youtube\"></i></a> <a href=\"https://www.instagram.com/hashtagtreinamentos/\" target=\"_blank\"><i class=\"fab fa-instagram\"></i></a></div></div></div></div></div></header>\n"
     ]
    }
   ],
   "source": [
    "cabecalho2 = site.find(role=\"banner\")\n",
    "print(cabecalho2)"
   ]
  },
  {
   "cell_type": "code",
   "execution_count": 43,
   "id": "0c7687a3",
   "metadata": {},
   "outputs": [
    {
     "name": "stdout",
     "output_type": "stream",
     "text": [
      "<header class=\"\" id=\"header\" role=\"banner\"><div class=\"container-fluid\"><div class=\"row\"><div class=\"logo col-md-2 col-6 align-self-center\"> <a class=\"custom-logo-link\" href=\"https://www.hashtagtreinamentos.com/\" rel=\"home\"><img alt=\"Hashtag Treinamentos\" class=\"custom-logo lazyloaded\" data-ll-status=\"loaded\" height=\"73\" sizes=\"(max-width: 153px) 100vw, 153px\" src=\"./Pagina Hashtag_files/logo_nova.png.webp\" srcset=\"https://www.hashtagtreinamentos.com/wp-content/uploads/2019/04/logo_nova.png.webp 153w,https://www.hashtagtreinamentos.com/wp-content/uploads/2019/04/logo_nova-150x73.png.webp 150w\" width=\"153\"/><noscript><img alt=\"Hashtag Treinamentos\" class=\"custom-logo\" height=\"73\" sizes=\"(max-width: 153px) 100vw, 153px\" src=\"https://www.hashtagtreinamentos.com/wp-content/uploads/2019/04/logo_nova.png.webp\" srcset=\"https://www.hashtagtreinamentos.com/wp-content/uploads/2019/04/logo_nova.png.webp 153w,https://www.hashtagtreinamentos.com/wp-content/uploads/2019/04/logo_nova-150x73.png.webp 150w\" width=\"153\"/></noscript></a></div><div class=\"col-md-10 align-self-center d-md-block d-none text-right\"><div class=\"menu_geral\"><div class=\"navbar navbar-default d-table ml-auto mt-0 py-0\" id=\"main-navigation\"><nav class=\"navbar navbar-expand-md py-0\"> <button aria-controls=\"navbarsExampleDefault\" aria-expanded=\"false\" aria-label=\"Toggle navigation\" class=\"navbar-toggler\" data-target=\"#navbarsExampleDefault\" data-toggle=\"collapse\" type=\"button\"> <span class=\"navbar-toggler-icon\"></span> </button><div class=\"collapse navbar-collapse\" id=\"navbarsExampleDefault\"><div class=\"collapse navbar-collapse\" id=\"navbarSupportedContent\"><ul class=\"navbar-nav ml-auto\" id=\"menu-principal\"><li class=\"menu-item menu-item-type-post_type menu-item-object-page menu-item-2191 nav-item\" id=\"menu-item-2191\" itemscope=\"itemscope\" itemtype=\"https://www.schema.org/SiteNavigationElement\"><a class=\"nav-link\" href=\"https://www.hashtagtreinamentos.com/curso-de-excel-online\" title=\"Curso Excel Online\">Curso Excel Online</a></li><li class=\"menu-item menu-item-type-post_type menu-item-object-page menu-item-6293 nav-item\" id=\"menu-item-6293\" itemscope=\"itemscope\" itemtype=\"https://www.schema.org/SiteNavigationElement\"><a class=\"nav-link\" href=\"https://www.hashtagtreinamentos.com/curso-power-bi\" title=\"Curso Power BI Online\">Curso Power BI Online</a></li><li class=\"menu-item menu-item-type-post_type menu-item-object-page menu-item-9706 nav-item\" id=\"menu-item-9706\" itemscope=\"itemscope\" itemtype=\"https://www.schema.org/SiteNavigationElement\"><a class=\"nav-link\" href=\"https://www.hashtagtreinamentos.com/curso-python\" title=\"Curso de Python Online\">Curso de Python Online</a></li><li class=\"menu-item menu-item-type-custom menu-item-object-custom menu-item-has-children dropdown menu-item-16313 nav-item\" id=\"menu-item-16313\" itemscope=\"itemscope\" itemtype=\"https://www.schema.org/SiteNavigationElement\"><a aria-expanded=\"false\" aria-haspopup=\"true\" class=\"dropdown-toggle nav-link disabled\" href=\"https://www.hashtagtreinamentos.com/todos-os-cursos#\" id=\"menu-item-dropdown-16313\" title=\"Outros Cursos\">Outros Cursos</a><ul aria-labelledby=\"menu-item-dropdown-16313\" class=\"dropdown-menu\" role=\"menu\"><li class=\"menu-item menu-item-type-post_type menu-item-object-page menu-item-17042 nav-item\" id=\"menu-item-17042\" itemscope=\"itemscope\" itemtype=\"https://www.schema.org/SiteNavigationElement\"><a class=\"dropdown-item\" href=\"https://www.hashtagtreinamentos.com/curso-sql\" title=\"Curso de SQL\">Curso de SQL</a></li><li class=\"menu-item menu-item-type-post_type menu-item-object-page menu-item-6686 nav-item\" id=\"menu-item-6686\" itemscope=\"itemscope\" itemtype=\"https://www.schema.org/SiteNavigationElement\"><a class=\"dropdown-item\" href=\"https://www.hashtagtreinamentos.com/curso-vba-excel\" title=\"Curso de VBA Excel\">Curso de VBA Excel</a></li><li class=\"menu-item menu-item-type-post_type menu-item-object-page menu-item-19806 nav-item\" id=\"menu-item-19806\" itemscope=\"itemscope\" itemtype=\"https://www.schema.org/SiteNavigationElement\"><a class=\"dropdown-item\" href=\"https://www.hashtagtreinamentos.com/curso-powerpoint\" title=\"Curso de PowerPoint Online\">Curso de PowerPoint Online</a></li><li class=\"menu-item menu-item-type-custom menu-item-object-custom menu-item-6302 nav-item\" id=\"menu-item-6302\" itemscope=\"itemscope\" itemtype=\"https://www.schema.org/SiteNavigationElement\"><a class=\"dropdown-item\" href=\"https://www.hashtagtreinamentos.com/todos-os-cursos-hashtag-treinamentos\" title=\"Todos os Cursos\">Todos os Cursos</a></li></ul></li><li class=\"menu-item menu-item-type-post_type menu-item-object-page menu-item-10581 nav-item\" id=\"menu-item-10581\" itemscope=\"itemscope\" itemtype=\"https://www.schema.org/SiteNavigationElement\"><a class=\"nav-link\" href=\"https://www.hashtagtreinamentos.com/treinamentos-corporativos\" title=\"Treinamentos para Empresas\">Treinamentos para Empresas</a></li><li class=\"menu-item menu-item-type-post_type menu-item-object-page menu-item-58 nav-item\" id=\"menu-item-58\" itemscope=\"itemscope\" itemtype=\"https://www.schema.org/SiteNavigationElement\"><a class=\"nav-link\" href=\"https://www.hashtagtreinamentos.com/blog\" title=\"Blog\">Blog</a></li><li class=\"menu-item menu-item-type-post_type menu-item-object-page menu-item-221 nav-item\" id=\"menu-item-221\" itemscope=\"itemscope\" itemtype=\"https://www.schema.org/SiteNavigationElement\"><a class=\"nav-link\" href=\"https://www.hashtagtreinamentos.com/contato\" title=\"Contato\">Contato</a></li></ul></div></div></nav></div></div><div class=\"social\"> <a class=\"mr-3\" href=\"https://www.facebook.com/hashtagtreinamentos/\" target=\"_blank\"><i class=\"fab fa-facebook-f\"></i></a> <a class=\"mr-3\" href=\"https://www.youtube.com/channel/UCw0leRmeaX7R_9BDd3TvCzg\" target=\"_blank\"><i class=\"fab fa-youtube\"></i></a> <a href=\"https://www.instagram.com/hashtagtreinamentos/\" target=\"_blank\"><i class=\"fab fa-instagram\"></i></a></div></div><div class=\"col-6 d-md-none\"><div class=\"fullnavBtn\" id=\"toggle\"> <span class=\"top\"></span> <span class=\"middle\"></span> <span class=\"bottom\"></span></div><div id=\"fullnav\"><nav class=\"navbar navbar-dark pr-lg-0\"><div class=\"collapsed navbar-collapse\" id=\"navbarSupportedContent\"><ul class=\"navbar-nav mx-auto\" id=\"menu-principal-1\"><li class=\"menu-item menu-item-type-post_type menu-item-object-page menu-item-2191 nav-item\" itemscope=\"itemscope\" itemtype=\"https://www.schema.org/SiteNavigationElement\"><a class=\"nav-link\" href=\"https://www.hashtagtreinamentos.com/curso-de-excel-online\" title=\"Curso Excel Online\">Curso Excel Online</a></li><li class=\"menu-item menu-item-type-post_type menu-item-object-page menu-item-6293 nav-item\" itemscope=\"itemscope\" itemtype=\"https://www.schema.org/SiteNavigationElement\"><a class=\"nav-link\" href=\"https://www.hashtagtreinamentos.com/curso-power-bi\" title=\"Curso Power BI Online\">Curso Power BI Online</a></li><li class=\"menu-item menu-item-type-post_type menu-item-object-page menu-item-9706 nav-item\" itemscope=\"itemscope\" itemtype=\"https://www.schema.org/SiteNavigationElement\"><a class=\"nav-link\" href=\"https://www.hashtagtreinamentos.com/curso-python\" title=\"Curso de Python Online\">Curso de Python Online</a></li><li class=\"menu-item menu-item-type-custom menu-item-object-custom menu-item-has-children dropdown menu-item-16313 nav-item\" itemscope=\"itemscope\" itemtype=\"https://www.schema.org/SiteNavigationElement\"><a aria-expanded=\"false\" aria-haspopup=\"true\" class=\"dropdown-toggle nav-link disabled\" href=\"https://www.hashtagtreinamentos.com/todos-os-cursos#\" id=\"menu-item-dropdown-16313\" title=\"Outros Cursos\">Outros Cursos</a><ul aria-labelledby=\"menu-item-dropdown-16313\" class=\"dropdown-menu\" role=\"menu\"><li class=\"menu-item menu-item-type-post_type menu-item-object-page menu-item-17042 nav-item\" itemscope=\"itemscope\" itemtype=\"https://www.schema.org/SiteNavigationElement\"><a class=\"dropdown-item\" href=\"https://www.hashtagtreinamentos.com/curso-sql\" title=\"Curso de SQL\">Curso de SQL</a></li><li class=\"menu-item menu-item-type-post_type menu-item-object-page menu-item-6686 nav-item\" itemscope=\"itemscope\" itemtype=\"https://www.schema.org/SiteNavigationElement\"><a class=\"dropdown-item\" href=\"https://www.hashtagtreinamentos.com/curso-vba-excel\" title=\"Curso de VBA Excel\">Curso de VBA Excel</a></li><li class=\"menu-item menu-item-type-post_type menu-item-object-page menu-item-19806 nav-item\" itemscope=\"itemscope\" itemtype=\"https://www.schema.org/SiteNavigationElement\"><a class=\"dropdown-item\" href=\"https://www.hashtagtreinamentos.com/curso-powerpoint\" title=\"Curso de PowerPoint Online\">Curso de PowerPoint Online</a></li><li class=\"menu-item menu-item-type-custom menu-item-object-custom menu-item-6302 nav-item\" itemscope=\"itemscope\" itemtype=\"https://www.schema.org/SiteNavigationElement\"><a class=\"dropdown-item\" href=\"https://www.hashtagtreinamentos.com/todos-os-cursos-hashtag-treinamentos\" title=\"Todos os Cursos\">Todos os Cursos</a></li></ul></li><li class=\"menu-item menu-item-type-post_type menu-item-object-page menu-item-10581 nav-item\" itemscope=\"itemscope\" itemtype=\"https://www.schema.org/SiteNavigationElement\"><a class=\"nav-link\" href=\"https://www.hashtagtreinamentos.com/treinamentos-corporativos\" title=\"Treinamentos para Empresas\">Treinamentos para Empresas</a></li><li class=\"menu-item menu-item-type-post_type menu-item-object-page menu-item-58 nav-item\" itemscope=\"itemscope\" itemtype=\"https://www.schema.org/SiteNavigationElement\"><a class=\"nav-link\" href=\"https://www.hashtagtreinamentos.com/blog\" title=\"Blog\">Blog</a></li><li class=\"menu-item menu-item-type-post_type menu-item-object-page menu-item-221 nav-item\" itemscope=\"itemscope\" itemtype=\"https://www.schema.org/SiteNavigationElement\"><a class=\"nav-link\" href=\"https://www.hashtagtreinamentos.com/contato\" title=\"Contato\">Contato</a></li></ul></div></nav><div class=\"social\"> <a class=\"mr-3\" href=\"https://www.facebook.com/hashtagtreinamentos/\" target=\"_blank\"><i class=\"fab fa-facebook-f\"></i></a> <a class=\"mr-3\" href=\"https://www.youtube.com/channel/UCw0leRmeaX7R_9BDd3TvCzg\" target=\"_blank\"><i class=\"fab fa-youtube\"></i></a> <a href=\"https://www.instagram.com/hashtagtreinamentos/\" target=\"_blank\"><i class=\"fab fa-instagram\"></i></a></div></div></div></div></div></header>\n"
     ]
    }
   ],
   "source": [
    "cabecalho3 = site.find(id=\"header\", role=\"banner\")\n",
    "print(cabecalho3)"
   ]
  },
  {
   "cell_type": "code",
   "execution_count": 51,
   "id": "89cb8d64",
   "metadata": {},
   "outputs": [
    {
     "name": "stdout",
     "output_type": "stream",
     "text": [
      "<img alt=\"Hashtag Treinamentos\" class=\"custom-logo lazyloaded\" data-ll-status=\"loaded\" height=\"73\" sizes=\"(max-width: 153px) 100vw, 153px\" src=\"./Pagina Hashtag_files/logo_nova.png.webp\" srcset=\"https://www.hashtagtreinamentos.com/wp-content/uploads/2019/04/logo_nova.png.webp 153w,https://www.hashtagtreinamentos.com/wp-content/uploads/2019/04/logo_nova-150x73.png.webp 150w\" width=\"153\"/>\n"
     ]
    }
   ],
   "source": [
    "logo = site.find(\"img\", {\"data-ll-status\": \"loaded\", \"class\": \"custom-logo\"})\n",
    "print(logo)"
   ]
  },
  {
   "cell_type": "markdown",
   "id": "41e7fd9b",
   "metadata": {},
   "source": [
    "### Busca por texto"
   ]
  },
  {
   "cell_type": "code",
   "execution_count": 54,
   "id": "d7e9d05c",
   "metadata": {},
   "outputs": [
    {
     "name": "stdout",
     "output_type": "stream",
     "text": [
      "Foco no Mercado\n"
     ]
    }
   ],
   "source": [
    "# texto é igual\n",
    "foco_mercado = site.find(string=\"Foco no Mercado\")\n",
    "print(foco_mercado)\n",
    "\n",
    "\n"
   ]
  },
  {
   "cell_type": "code",
   "execution_count": 58,
   "id": "71349fec",
   "metadata": {},
   "outputs": [
    {
     "name": "stdout",
     "output_type": "stream",
     "text": [
      "['Mais de 50.000 de alunos formados por Todos os Cursos da Hashtag', 'Nos últimos anos, a Hashtag Treinamentos transformou a vida de milhares de alunos no Brasil e no Mundo com seus cursos!']\n"
     ]
    }
   ],
   "source": [
    "# contém texto\n",
    "import re\n",
    "\n",
    "textos = site.find_all(string=re.compile(\"alunos\"))\n",
    "print(textos)"
   ]
  },
  {
   "cell_type": "code",
   "execution_count": null,
   "id": "8b1d6e0d",
   "metadata": {},
   "outputs": [],
   "source": []
  }
 ],
 "metadata": {
  "kernelspec": {
   "display_name": "Python 3 (ipykernel)",
   "language": "python",
   "name": "python3"
  },
  "language_info": {
   "codemirror_mode": {
    "name": "ipython",
    "version": 3
   },
   "file_extension": ".py",
   "mimetype": "text/x-python",
   "name": "python",
   "nbconvert_exporter": "python",
   "pygments_lexer": "ipython3",
   "version": "3.9.13"
  }
 },
 "nbformat": 4,
 "nbformat_minor": 5
}
