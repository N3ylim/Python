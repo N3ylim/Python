{
 "cells": [
  {
   "attachments": {},
   "cell_type": "markdown",
   "metadata": {},
   "source": [
    "# Integração do Python com Arquivos txt\n",
    "\n",
    "Como quase tudo no Python, existem várias formas de ler um arquivo no Python.\n",
    "\n",
    "Aprendemos em módulos passadas a ler arquivos em Excel ou csv com o Pandas, minha recomendação é que, sempre que possível, use o pandas para isso porque ele é um módulo feito para análise de dados e tem muita coisa pronta dentro dele.\n",
    "\n",
    "Caso queira ler um arquivo txt simplesmente ou escrever um, vamos ver agora como fazer.\n",
    "\n",
    "### Estrutura:"
   ]
  },
  {
   "cell_type": "raw",
   "metadata": {},
   "source": [
    "1. Método open: -> Abre um arquivo txt\n",
    "\n",
    "arquivo = open('NomeArquivo.txt', 'r')\n",
    "\n",
    "Usamos 'r' para abrir o arquivo para ler (read) e 'w' quando estamos abrindo o arquivo para escrever (write) ou 'a' se formos adicionar (append) uma informação no arquivo"
   ]
  },
  {
   "attachments": {},
   "cell_type": "markdown",
   "metadata": {},
   "source": [
    "- Com o arquivo aberto, agora podemos efetivamente ler o arquivo com os métodos:"
   ]
  },
  {
   "cell_type": "raw",
   "metadata": {},
   "source": [
    "2. Método read():\n",
    "\n",
    "texto_arquivo = arquivo.read()\n",
    "\n",
    "3. Método readlines():\n",
    "\n",
    "lista_linhas = arquivo.readlines()"
   ]
  },
  {
   "attachments": {},
   "cell_type": "markdown",
   "metadata": {},
   "source": [
    "- Para escrever alguma coisa no arquivo teremos o método write:"
   ]
  },
  {
   "cell_type": "raw",
   "metadata": {},
   "source": [
    "4. Método write():\n",
    "\n",
    "arquivo.write('Texto que quero escrever')"
   ]
  },
  {
   "attachments": {},
   "cell_type": "markdown",
   "metadata": {},
   "source": [
    "- Obs: Quando você abre um arquivo, ele permanece aberto no Python até você fechar. Existem 2 formas de fazer isso:"
   ]
  },
  {
   "cell_type": "raw",
   "metadata": {},
   "source": [
    "5. Método close():\n",
    "\n",
    "arquivo.close()\n",
    "\n",
    "6. Usando a estrutura with: -> ao final do with, a própria estrutura with fecha automaticamente o arquivo\n",
    "\n",
    "with open('NomeArquivo.txt', 'w') as arquivo:\n",
    "    arquivo.write()\n",
    "    ..."
   ]
  },
  {
   "attachments": {},
   "cell_type": "markdown",
   "metadata": {},
   "source": [
    "### Desafio onde vamos aprender:\n",
    "\n",
    "- Na Hashtag, sempre analisamos o nosso \"Funil de Vendas\". Para isso, rastreamos de onde veio os alunos por meio de um código, do tipo:\n",
    "    - hashtag_site_org -> Pessoas que vieram pelo site da Hashtag\n",
    "    - hashtag_yt_org -> Pessoas que vieram pelo Youtube da Hashtag\n",
    "    - hashtag_ig_org -> Pessoas que vieram pelo Instagram da Hashtag\n",
    "    - hashtag_igfb_org -> Pessoas que vieram pelo Instagram ou Facebook da Hashtag\n",
    "\n",
    "Os códigos diferentes disso, são códigos de anúncio da Hashtag.\n",
    "\n",
    "- Queremos analisar quantos alunos vieram de anúncio e quantos vieram \"orgânico\".\n",
    "- Qual a melhor fonte \"orgânica\" de alunos\n",
    "\n",
    "Obs: orgânico é tudo aquilo que não veio de anúncios.\n",
    "\n",
    "No nosso sistema, conseguimos exportar um txt com as informações dos alunos, conforme o arquivo Alunos.txt<br>\n",
    "(Os dados foram gerados aleatoriamente para simular uma situação real, já que não podemos fornecer os dados reais dos alunos por questões de segurança)\n",
    "\n",
    "- No final, para treinar, vamos escrever todas essas respostas em um novo arquivo txt"
   ]
  },
  {
   "cell_type": "code",
   "execution_count": 2,
   "metadata": {},
   "outputs": [
    {
     "name": "stdout",
     "output_type": "stream",
     "text": [
      "Quantidade Anuncio: 274\n",
      "Quantidade Organico: 226\n",
      "Quantidade YouTube: 155\n",
      "Quantidade Site: 73\n",
      "Quantidade Intagram: 24\n",
      "Fim do código\n"
     ]
    }
   ],
   "source": [
    "# alunos = open('Alunos.txt', 'r')\n",
    "\n",
    "# #print(alunos.read())\n",
    "# print(alunos.readlines())\n",
    "\n",
    "\n",
    "\n",
    "arquivo = open('Alunos.txt', 'r')\n",
    "linhas = arquivo.readlines()\n",
    "\n",
    "# indicadores\n",
    "qtde_anuncio = 0\n",
    "qtde_org = 0\n",
    "qtde_yt = 0\n",
    "qtde_igfb = 0\n",
    "qtde_site_org = 0\n",
    "\n",
    "\n",
    "del linhas[:4]\n",
    "# print(linhas)\n",
    "\n",
    "for linha in linhas:\n",
    "    email, origem = linha.split(',')\n",
    "    if '_org' in origem:\n",
    "        qtde_org += 1\n",
    "        if 'hashtag_yt_org' in origem:\n",
    "            qtde_yt += 1\n",
    "        if 'hashtag_site_org' in origem:\n",
    "            qtde_site_org += 1\n",
    "        if 'hashtag_ig_org' in origem or 'hashtag_igfb_org' in origem:\n",
    "            qtde_igfb += 1\n",
    "            \n",
    "    else:\n",
    "        qtde_anuncio += 1\n",
    "\n",
    "\n",
    "arquivo.close\n",
    "\n",
    "print('Quantidade Anuncio: {}'.format(qtde_anuncio))\n",
    "print('Quantidade Organico: {}'.format(qtde_org))\n",
    "print('Quantidade YouTube: {}'.format(qtde_yt))\n",
    "print('Quantidade Site: {}'.format(qtde_site_org))\n",
    "print('Quantidade Intagram: {}'.format(qtde_igfb))\n",
    "\n",
    "\n",
    "\n",
    "\n",
    "with open('Indicadores.txt', 'w') as arquivos_indicadores:\n",
    "    arquivos_indicadores.write('Quantidade Anuncio: {}\\n'.format(qtde_anuncio))\n",
    "    arquivos_indicadores.write('Quantidade Organico: {}\\n'.format(qtde_org))\n",
    "    arquivos_indicadores.write('Quantidade YouTube: {}\\n'.format(qtde_yt))\n",
    "    arquivos_indicadores.write('Quantidade Site: {}\\n'.format(qtde_site_org))\n",
    "    arquivos_indicadores.write('Quantidade Intagram: {}\\n'.format(qtde_igfb))\n",
    "print('Fim do código')\n"
   ]
  }
 ],
 "metadata": {
  "kernelspec": {
   "display_name": "Python 3",
   "language": "python",
   "name": "python3"
  },
  "language_info": {
   "codemirror_mode": {
    "name": "ipython",
    "version": 3
   },
   "file_extension": ".py",
   "mimetype": "text/x-python",
   "name": "python",
   "nbconvert_exporter": "python",
   "pygments_lexer": "ipython3",
   "version": "3.11.1"
  }
 },
 "nbformat": 4,
 "nbformat_minor": 4
}
