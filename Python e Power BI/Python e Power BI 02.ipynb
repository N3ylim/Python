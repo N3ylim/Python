{
 "cells": [
  {
   "cell_type": "markdown",
   "metadata": {},
   "source": [
    "# Integração Parte 1 - Python para \"Criar\" Bases de Dados"
   ]
  },
  {
   "cell_type": "markdown",
   "metadata": {},
   "source": [
    "### Qual arquivo vamos importar?\n",
    "\n",
    "- Vamos usar o mesmo exemplo que usamos da empresa Contoso no módulo de Análise de Dados\n",
    "\n",
    "Temos 4 arquivos diferentes:\n",
    "- Vendas\n",
    "- Lojas\n",
    "- Clientes\n",
    "- Produtos\n",
    "\n",
    "E vamos integrar eles em 1 arquivo único apenas com as informações relevantes. Depois, vamos importar essa base tratada para o Power BI"
   ]
  },
  {
   "cell_type": "code",
   "execution_count": null,
   "metadata": {},
   "outputs": [],
   "source": [
    "import pandas as pd\n",
    "import os\n",
    "#importando os arquivos\n",
    "caminho_padrao = r'C:\\Users\\joaop\\Google Drive\\Python Impressionador\\Pyhon e Power BI'\n",
    "vendas_df = pd.read_csv(os.path.join(caminho_padrao, r'Contoso - Vendas  - 2017.csv'), sep=';')\n",
    "produtos_df = pd.read_csv(os.path.join(caminho_padrao, r'Contoso - Cadastro Produtos.csv'), sep=';')\n",
    "lojas_df = pd.read_csv(os.path.join(caminho_padrao, r'Contoso - Lojas.csv'), sep=';')\n",
    "clientes_df = pd.read_csv(os.path.join(caminho_padrao, r'Contoso - Clientes.csv'), sep=';')\n",
    "\n",
    "#limpando apenas as colunas que queremos\n",
    "clientes_df = clientes_df[['ID Cliente', 'E-mail']]\n",
    "produtos_df = produtos_df[['ID Produto', 'Nome do Produto']]\n",
    "lojas_df = lojas_df[['ID Loja', 'Nome da Loja']]\n",
    "\n",
    "#mesclando e renomeando os dataframes\n",
    "vendas_df = vendas_df.merge(produtos_df, on='ID Produto')\n",
    "vendas_df = vendas_df.merge(lojas_df, on='ID Loja')\n",
    "vendas_df = vendas_df.merge(clientes_df, on='ID Cliente').rename(columns={'E-mail': 'E-mail do Cliente'})\n",
    "display(vendas_df)"
   ]
  }
 ],
 "metadata": {
  "kernelspec": {
   "display_name": "Python 3",
   "language": "python",
   "name": "python3"
  },
  "language_info": {
   "codemirror_mode": {
    "name": "ipython",
    "version": 3
   },
   "file_extension": ".py",
   "mimetype": "text/x-python",
   "name": "python",
   "nbconvert_exporter": "python",
   "pygments_lexer": "ipython3",
   "version": "3.6.12"
  }
 },
 "nbformat": 4,
 "nbformat_minor": 4
}
