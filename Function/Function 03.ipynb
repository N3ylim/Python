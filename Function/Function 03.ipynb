{
 "cells": [
  {
   "cell_type": "markdown",
   "metadata": {},
   "source": [
    "# Argumentos/Parâmetros da Função\n",
    "\n",
    "### Estrutura:"
   ]
  },
  {
   "cell_type": "raw",
   "metadata": {},
   "source": [
    "def minha_funcao(parametro1, parametro2, parametro3):\n",
    "    return parametro1 + parametro2 + parametro3"
   ]
  },
  {
   "cell_type": "markdown",
   "metadata": {},
   "source": [
    "- Exemplo: nosso famoso print"
   ]
  },
  {
   "cell_type": "code",
   "execution_count": 11,
   "metadata": {},
   "outputs": [
    {
     "name": "stdout",
     "output_type": "stream",
     "text": [
      "Produto Iphone teve 50 vendas\n"
     ]
    }
   ],
   "source": [
    "vendas = 50\n",
    "print('Produto', 'Iphone', 'teve', vendas, 'vendas')"
   ]
  },
  {
   "cell_type": "markdown",
   "metadata": {},
   "source": [
    "- Só para mostrar o funcionamento, vamos criar uma função de soma"
   ]
  },
  {
   "cell_type": "code",
   "execution_count": 15,
   "metadata": {},
   "outputs": [
    {
     "name": "stdout",
     "output_type": "stream",
     "text": [
      "60\n"
     ]
    }
   ],
   "source": [
    "def minha_soma(num1, num2, num3):\n",
    "    return num1 + num2 + num3\n",
    "\n",
    "\n",
    "soma = minha_soma(10, 20, 30)\n",
    "print(soma)"
   ]
  },
  {
   "cell_type": "markdown",
   "metadata": {},
   "source": [
    "- Vamos criar uma function com parâmetro\n",
    "\n",
    "Digamos que estamos criando um programa para categorizar os produtos de uma revendedora de bebidas.\n",
    "\n",
    "Cada produto tem um código. O tipo de produto é dado pelas 3 primeiras letras do código.\n",
    "\n",
    "Ex:<br>\n",
    "Vinho -> BEB12302<br>\n",
    "Cerveja -> BEB12043<br>\n",
    "Vodka -> BEB34501<br>\n",
    "\n",
    "Guaraná -> BSA11104<br>\n",
    "Coca -> BSA54301<br>\n",
    "Sprite -> BSA34012<br>\n",
    "Água -> BSA09871<br>\n",
    "\n",
    "Repare que bebidas não alcóolicas começam com BSA e bebidas alcoolicas começam com BEB.\n",
    "\n",
    "Crie um programa que analise uma lista de produtos e envie instruções para a equipe de estoque dizendo quais produtos devem ser enviados para a área de bebidas alcóolicas."
   ]
  },
  {
   "cell_type": "code",
   "execution_count": 30,
   "metadata": {},
   "outputs": [
    {
     "name": "stdout",
     "output_type": "stream",
     "text": [
      "Enviar beb46275 para o setor de bebidas alcolicas\n",
      "Enviar BEB21365 para o setor de bebidas alcolicas\n",
      "Enviar BEB31623 para o setor de bebidas alcolicas\n",
      "Enviar BEB73344 para o setor de bebidas alcolicas\n",
      "Enviar BEB80694 para o setor de bebidas alcolicas\n",
      "Enviar BEB19495 para o setor de bebidas alcolicas\n",
      "Enviar BEB97471 para o setor de bebidas alcolicas\n",
      "Enviar BEB62362 para o setor de bebidas alcolicas\n",
      "Enviar BEB85146 para o setor de bebidas alcolicas\n",
      "Enviar BEB48898 para o setor de bebidas alcolicas\n",
      "Enviar BEB79496 para o setor de bebidas alcolicas\n",
      "Enviar BEB15385 para o setor de bebidas alcolicas\n",
      "Enviar BEB24213 para o setor de bebidas alcolicas\n",
      "Enviar BEB56262 para o setor de bebidas alcolicas\n",
      "Enviar BEB75073 para o setor de bebidas alcolicas\n"
     ]
    }
   ],
   "source": [
    "def ehacoolico(produto):\n",
    "    produto = produto.upper()\n",
    "    if 'BEB' in produto:\n",
    "        return True\n",
    "    else:\n",
    "        return False\n",
    "\n",
    "\n",
    "produtos = ['beb46275','TFA23962','TFA64715','TFA69555','TFA56743','BSA45510','TFA44968','CAR75448','CAR23596','CAR13490','BEB21365','BEB31623','BSA62419','BEB73344','TFA20079','BEB80694','BSA11769','BEB19495','TFA14792','TFA78043','BSA33484','BEB97471','BEB62362','TFA27311','TFA17715','BEB85146','BEB48898','BEB79496','CAR38417','TFA19947','TFA58799','CAR94811','BSA59251','BEB15385','BEB24213','BEB56262','BSA96915','CAR53454','BEB75073']\n",
    "\n",
    "# percocorrer toda minha lista de produto\n",
    "# pra cada produto, verificar se ele é bebida   alcoolica\n",
    "# se for bebida alcoolica, exibir a mensagem 'Enviar......'\n",
    "\n",
    "\n",
    "for produto in produtos:\n",
    "    if ehacoolico(produto):\n",
    "        print(f'Enviar {produto} para o setor de bebidas alcolicas')\n",
    "\n",
    "\n",
    "    \n",
    "    \n"
   ]
  }
 ],
 "metadata": {
  "kernelspec": {
   "display_name": "Python 3",
   "language": "python",
   "name": "python3"
  },
  "language_info": {
   "codemirror_mode": {
    "name": "ipython",
    "version": 3
   },
   "file_extension": ".py",
   "mimetype": "text/x-python",
   "name": "python",
   "nbconvert_exporter": "python",
   "pygments_lexer": "ipython3",
   "version": "3.11.1"
  }
 },
 "nbformat": 4,
 "nbformat_minor": 4
}
